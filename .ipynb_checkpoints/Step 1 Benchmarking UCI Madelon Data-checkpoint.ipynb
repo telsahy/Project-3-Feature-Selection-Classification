{
 "cells": [
  {
   "cell_type": "code",
   "execution_count": 25,
   "metadata": {},
   "outputs": [],
   "source": [
    "from sklearn.metrics import classification_report, confusion_matrix"
   ]
  },
  {
   "cell_type": "code",
   "execution_count": 26,
   "metadata": {},
   "outputs": [],
   "source": [
    "import numpy as np"
   ]
  },
  {
   "cell_type": "code",
   "execution_count": 2,
   "metadata": {},
   "outputs": [],
   "source": [
    "from sklearn.datasets import make_classification\n",
    "import matplotlib.pyplot as plt\n",
    "import pandas as pd\n",
    "from sklearn.neighbors import NearestNeighbors\n",
    "from sklearn.neighbors import KNeighborsClassifier\n",
    "from sklearn.model_selection import train_test_split\n",
    "from sklearn.linear_model import LogisticRegression\n",
    "from sklearn.preprocessing import StandardScaler\n",
    "from sklearn import tree\n",
    "from sklearn import svm\n",
    "from sklearn.model_selection import GridSearchCV\n",
    "from sklearn.pipeline import Pipeline\n",
    "from sklearn.feature_selection import SelectKBest, SelectFromModel, f_regression\n",
    "import seaborn as sns\n",
    "%matplotlib inline"
   ]
  },
  {
   "cell_type": "markdown",
   "metadata": {},
   "source": [
    "## Importing and sampling the UCI data / basic EDA"
   ]
  },
  {
   "cell_type": "code",
   "execution_count": 5,
   "metadata": {},
   "outputs": [],
   "source": [
    "df_train_data = pd.read_csv('madelon_train.data.csv', delimiter=' ', header=None).drop(500, axis=1)"
   ]
  },
  {
   "cell_type": "code",
   "execution_count": 6,
   "metadata": {},
   "outputs": [],
   "source": [
    "df_train_labels = pd.read_csv('madelon_train.labels.csv', delimiter=' ', header=None)"
   ]
  },
  {
   "cell_type": "code",
   "execution_count": 7,
   "metadata": {},
   "outputs": [],
   "source": [
    "train_data_10pct_1 = df_train_data.sample(200)"
   ]
  },
  {
   "cell_type": "code",
   "execution_count": 8,
   "metadata": {},
   "outputs": [],
   "source": [
    "y = df_train_labels[0]"
   ]
  },
  {
   "cell_type": "code",
   "execution_count": 9,
   "metadata": {},
   "outputs": [],
   "source": [
    "y_10pct_1 = y.sample(200)"
   ]
  },
  {
   "cell_type": "code",
   "execution_count": 11,
   "metadata": {},
   "outputs": [
    {
     "data": {
      "text/plain": [
       "((200, 500), (200,))"
      ]
     },
     "execution_count": 11,
     "metadata": {},
     "output_type": "execute_result"
    }
   ],
   "source": [
    "train_data_10pct_1.shape, y_10pct_1.shape"
   ]
  },
  {
   "cell_type": "code",
   "execution_count": 12,
   "metadata": {},
   "outputs": [],
   "source": [
    "df_train_data.insert(0, 'label', y)"
   ]
  },
  {
   "cell_type": "code",
   "execution_count": 13,
   "metadata": {
    "collapsed": true
   },
   "outputs": [
    {
     "data": {
      "text/html": [
       "<div>\n",
       "<table border=\"1\" class=\"dataframe\">\n",
       "  <thead>\n",
       "    <tr style=\"text-align: right;\">\n",
       "      <th></th>\n",
       "      <th>0</th>\n",
       "      <th>1</th>\n",
       "      <th>2</th>\n",
       "      <th>3</th>\n",
       "      <th>4</th>\n",
       "      <th>5</th>\n",
       "      <th>6</th>\n",
       "      <th>7</th>\n",
       "      <th>8</th>\n",
       "      <th>9</th>\n",
       "      <th>...</th>\n",
       "      <th>490</th>\n",
       "      <th>491</th>\n",
       "      <th>492</th>\n",
       "      <th>493</th>\n",
       "      <th>494</th>\n",
       "      <th>495</th>\n",
       "      <th>496</th>\n",
       "      <th>497</th>\n",
       "      <th>498</th>\n",
       "      <th>499</th>\n",
       "    </tr>\n",
       "  </thead>\n",
       "  <tbody>\n",
       "    <tr>\n",
       "      <th>508</th>\n",
       "      <td>474</td>\n",
       "      <td>423</td>\n",
       "      <td>448</td>\n",
       "      <td>485</td>\n",
       "      <td>481</td>\n",
       "      <td>480</td>\n",
       "      <td>445</td>\n",
       "      <td>476</td>\n",
       "      <td>477</td>\n",
       "      <td>478</td>\n",
       "      <td>...</td>\n",
       "      <td>516</td>\n",
       "      <td>475</td>\n",
       "      <td>464</td>\n",
       "      <td>636</td>\n",
       "      <td>485</td>\n",
       "      <td>578</td>\n",
       "      <td>465</td>\n",
       "      <td>465</td>\n",
       "      <td>537</td>\n",
       "      <td>499</td>\n",
       "    </tr>\n",
       "    <tr>\n",
       "      <th>444</th>\n",
       "      <td>491</td>\n",
       "      <td>486</td>\n",
       "      <td>514</td>\n",
       "      <td>480</td>\n",
       "      <td>576</td>\n",
       "      <td>479</td>\n",
       "      <td>458</td>\n",
       "      <td>478</td>\n",
       "      <td>482</td>\n",
       "      <td>484</td>\n",
       "      <td>...</td>\n",
       "      <td>486</td>\n",
       "      <td>479</td>\n",
       "      <td>489</td>\n",
       "      <td>442</td>\n",
       "      <td>523</td>\n",
       "      <td>480</td>\n",
       "      <td>491</td>\n",
       "      <td>480</td>\n",
       "      <td>564</td>\n",
       "      <td>531</td>\n",
       "    </tr>\n",
       "    <tr>\n",
       "      <th>536</th>\n",
       "      <td>472</td>\n",
       "      <td>452</td>\n",
       "      <td>580</td>\n",
       "      <td>481</td>\n",
       "      <td>474</td>\n",
       "      <td>466</td>\n",
       "      <td>519</td>\n",
       "      <td>476</td>\n",
       "      <td>487</td>\n",
       "      <td>482</td>\n",
       "      <td>...</td>\n",
       "      <td>489</td>\n",
       "      <td>474</td>\n",
       "      <td>458</td>\n",
       "      <td>501</td>\n",
       "      <td>459</td>\n",
       "      <td>548</td>\n",
       "      <td>475</td>\n",
       "      <td>466</td>\n",
       "      <td>491</td>\n",
       "      <td>501</td>\n",
       "    </tr>\n",
       "    <tr>\n",
       "      <th>37</th>\n",
       "      <td>488</td>\n",
       "      <td>462</td>\n",
       "      <td>538</td>\n",
       "      <td>479</td>\n",
       "      <td>542</td>\n",
       "      <td>485</td>\n",
       "      <td>477</td>\n",
       "      <td>476</td>\n",
       "      <td>528</td>\n",
       "      <td>471</td>\n",
       "      <td>...</td>\n",
       "      <td>519</td>\n",
       "      <td>475</td>\n",
       "      <td>489</td>\n",
       "      <td>689</td>\n",
       "      <td>448</td>\n",
       "      <td>465</td>\n",
       "      <td>483</td>\n",
       "      <td>462</td>\n",
       "      <td>525</td>\n",
       "      <td>513</td>\n",
       "    </tr>\n",
       "    <tr>\n",
       "      <th>901</th>\n",
       "      <td>474</td>\n",
       "      <td>526</td>\n",
       "      <td>476</td>\n",
       "      <td>488</td>\n",
       "      <td>511</td>\n",
       "      <td>492</td>\n",
       "      <td>490</td>\n",
       "      <td>476</td>\n",
       "      <td>473</td>\n",
       "      <td>488</td>\n",
       "      <td>...</td>\n",
       "      <td>459</td>\n",
       "      <td>475</td>\n",
       "      <td>460</td>\n",
       "      <td>348</td>\n",
       "      <td>456</td>\n",
       "      <td>552</td>\n",
       "      <td>491</td>\n",
       "      <td>473</td>\n",
       "      <td>495</td>\n",
       "      <td>484</td>\n",
       "    </tr>\n",
       "  </tbody>\n",
       "</table>\n",
       "<p>5 rows × 500 columns</p>\n",
       "</div>"
      ],
      "text/plain": [
       "     0    1    2    3    4    5    6    7    8    9   ...   490  491  492  \\\n",
       "508  474  423  448  485  481  480  445  476  477  478 ...   516  475  464   \n",
       "444  491  486  514  480  576  479  458  478  482  484 ...   486  479  489   \n",
       "536  472  452  580  481  474  466  519  476  487  482 ...   489  474  458   \n",
       "37   488  462  538  479  542  485  477  476  528  471 ...   519  475  489   \n",
       "901  474  526  476  488  511  492  490  476  473  488 ...   459  475  460   \n",
       "\n",
       "     493  494  495  496  497  498  499  \n",
       "508  636  485  578  465  465  537  499  \n",
       "444  442  523  480  491  480  564  531  \n",
       "536  501  459  548  475  466  491  501  \n",
       "37   689  448  465  483  462  525  513  \n",
       "901  348  456  552  491  473  495  484  \n",
       "\n",
       "[5 rows x 500 columns]"
      ]
     },
     "execution_count": 13,
     "metadata": {},
     "output_type": "execute_result"
    }
   ],
   "source": [
    "train_data_10pct_1.head()"
   ]
  },
  {
   "cell_type": "code",
   "execution_count": 14,
   "metadata": {
    "collapsed": true
   },
   "outputs": [
    {
     "data": {
      "text/plain": [
       "684     1\n",
       "301    -1\n",
       "1908   -1\n",
       "1360   -1\n",
       "154    -1\n",
       "Name: 0, dtype: int64"
      ]
     },
     "execution_count": 14,
     "metadata": {},
     "output_type": "execute_result"
    }
   ],
   "source": [
    "y_10pct_1.head()"
   ]
  },
  {
   "cell_type": "markdown",
   "metadata": {},
   "source": [
    "## Preparing train, test split for:\n",
    "\n",
    "- logistic regression\n",
    "- decision tree\n",
    "- k nearest neighbors\n",
    "- support vector classifier\n",
    "\n",
    "\"in order to do this, you will need to set a high C value in order to perform minimal regularization, in the case of logistic regression and support vector classifier.\""
   ]
  },
  {
   "cell_type": "code",
   "execution_count": 15,
   "metadata": {},
   "outputs": [],
   "source": [
    "X_train, X_test, y_train, y_test = train_test_split(train_data_10pct_1,\n",
    "                                                    y_10pct_1,\n",
    "                                                    test_size = .3,\n",
    "                                                    )"
   ]
  },
  {
   "cell_type": "code",
   "execution_count": 16,
   "metadata": {},
   "outputs": [
    {
     "data": {
      "text/plain": [
       "((140, 500), (140,))"
      ]
     },
     "execution_count": 16,
     "metadata": {},
     "output_type": "execute_result"
    }
   ],
   "source": [
    "X_train.shape, y_train.shape"
   ]
  },
  {
   "cell_type": "markdown",
   "metadata": {},
   "source": [
    "# LOGISTIC REGRESSION"
   ]
  },
  {
   "cell_type": "code",
   "execution_count": 17,
   "metadata": {
    "scrolled": true
   },
   "outputs": [],
   "source": [
    "simple_pipe_1 = Pipeline([\n",
    "    ('lnr',  LogisticRegression())\n",
    "])"
   ]
  },
  {
   "cell_type": "code",
   "execution_count": 18,
   "metadata": {},
   "outputs": [],
   "source": [
    "simple_param_1 = {\n",
    "    'lnr__C': [10,25,50,75,100]\n",
    "}"
   ]
  },
  {
   "cell_type": "code",
   "execution_count": 19,
   "metadata": {},
   "outputs": [],
   "source": [
    "simple2_gs = GridSearchCV(simple_pipe_1, param_grid=simple_param_1, cv=5, n_jobs=-1, verbose=1)"
   ]
  },
  {
   "cell_type": "code",
   "execution_count": 20,
   "metadata": {
    "scrolled": true
   },
   "outputs": [
    {
     "name": "stdout",
     "output_type": "stream",
     "text": [
      "Fitting 5 folds for each of 5 candidates, totalling 25 fits\n"
     ]
    },
    {
     "name": "stderr",
     "output_type": "stream",
     "text": [
      "[Parallel(n_jobs=-1)]: Done  25 out of  25 | elapsed:    0.3s finished\n"
     ]
    },
    {
     "data": {
      "text/plain": [
       "GridSearchCV(cv=5, error_score='raise',\n",
       "       estimator=Pipeline(steps=[('scaler', StandardScaler(copy=True, with_mean=True, with_std=True)), ('lnr', LogisticRegression(C=1.0, class_weight=None, dual=False, fit_intercept=True,\n",
       "          intercept_scaling=1, max_iter=100, multi_class='ovr', n_jobs=1,\n",
       "          penalty='l2', random_state=None, solver='liblinear', tol=0.0001,\n",
       "          verbose=0, warm_start=False))]),\n",
       "       fit_params={}, iid=True, n_jobs=-1,\n",
       "       param_grid={'lnr__C': [10, 25, 50, 75, 100]},\n",
       "       pre_dispatch='2*n_jobs', refit=True, return_train_score=True,\n",
       "       scoring=None, verbose=1)"
      ]
     },
     "execution_count": 20,
     "metadata": {},
     "output_type": "execute_result"
    }
   ],
   "source": [
    "simple2_gs.fit(X_train, y_train)"
   ]
  },
  {
   "cell_type": "code",
   "execution_count": 21,
   "metadata": {
    "scrolled": true
   },
   "outputs": [
    {
     "data": {
      "text/html": [
       "<div>\n",
       "<table border=\"1\" class=\"dataframe\">\n",
       "  <thead>\n",
       "    <tr style=\"text-align: right;\">\n",
       "      <th></th>\n",
       "      <th>0</th>\n",
       "      <th>1</th>\n",
       "      <th>2</th>\n",
       "      <th>3</th>\n",
       "      <th>4</th>\n",
       "    </tr>\n",
       "  </thead>\n",
       "  <tbody>\n",
       "    <tr>\n",
       "      <th>mean_fit_time</th>\n",
       "      <td>0.00849185</td>\n",
       "      <td>0.00811915</td>\n",
       "      <td>0.00875969</td>\n",
       "      <td>0.00921001</td>\n",
       "      <td>0.00860438</td>\n",
       "    </tr>\n",
       "    <tr>\n",
       "      <th>mean_score_time</th>\n",
       "      <td>0.000611401</td>\n",
       "      <td>0.000513744</td>\n",
       "      <td>0.000508165</td>\n",
       "      <td>0.000522184</td>\n",
       "      <td>0.000531101</td>\n",
       "    </tr>\n",
       "    <tr>\n",
       "      <th>mean_test_score</th>\n",
       "      <td>0.507143</td>\n",
       "      <td>0.507143</td>\n",
       "      <td>0.507143</td>\n",
       "      <td>0.507143</td>\n",
       "      <td>0.507143</td>\n",
       "    </tr>\n",
       "    <tr>\n",
       "      <th>mean_train_score</th>\n",
       "      <td>1</td>\n",
       "      <td>1</td>\n",
       "      <td>1</td>\n",
       "      <td>1</td>\n",
       "      <td>1</td>\n",
       "    </tr>\n",
       "    <tr>\n",
       "      <th>param_lnr__C</th>\n",
       "      <td>10</td>\n",
       "      <td>25</td>\n",
       "      <td>50</td>\n",
       "      <td>75</td>\n",
       "      <td>100</td>\n",
       "    </tr>\n",
       "    <tr>\n",
       "      <th>params</th>\n",
       "      <td>{'lnr__C': 10}</td>\n",
       "      <td>{'lnr__C': 25}</td>\n",
       "      <td>{'lnr__C': 50}</td>\n",
       "      <td>{'lnr__C': 75}</td>\n",
       "      <td>{'lnr__C': 100}</td>\n",
       "    </tr>\n",
       "    <tr>\n",
       "      <th>rank_test_score</th>\n",
       "      <td>1</td>\n",
       "      <td>1</td>\n",
       "      <td>1</td>\n",
       "      <td>1</td>\n",
       "      <td>1</td>\n",
       "    </tr>\n",
       "    <tr>\n",
       "      <th>split0_test_score</th>\n",
       "      <td>0.586207</td>\n",
       "      <td>0.586207</td>\n",
       "      <td>0.586207</td>\n",
       "      <td>0.586207</td>\n",
       "      <td>0.586207</td>\n",
       "    </tr>\n",
       "    <tr>\n",
       "      <th>split0_train_score</th>\n",
       "      <td>1</td>\n",
       "      <td>1</td>\n",
       "      <td>1</td>\n",
       "      <td>1</td>\n",
       "      <td>1</td>\n",
       "    </tr>\n",
       "    <tr>\n",
       "      <th>split1_test_score</th>\n",
       "      <td>0.482759</td>\n",
       "      <td>0.482759</td>\n",
       "      <td>0.482759</td>\n",
       "      <td>0.482759</td>\n",
       "      <td>0.482759</td>\n",
       "    </tr>\n",
       "    <tr>\n",
       "      <th>split1_train_score</th>\n",
       "      <td>1</td>\n",
       "      <td>1</td>\n",
       "      <td>1</td>\n",
       "      <td>1</td>\n",
       "      <td>1</td>\n",
       "    </tr>\n",
       "    <tr>\n",
       "      <th>split2_test_score</th>\n",
       "      <td>0.464286</td>\n",
       "      <td>0.464286</td>\n",
       "      <td>0.464286</td>\n",
       "      <td>0.464286</td>\n",
       "      <td>0.464286</td>\n",
       "    </tr>\n",
       "    <tr>\n",
       "      <th>split2_train_score</th>\n",
       "      <td>1</td>\n",
       "      <td>1</td>\n",
       "      <td>1</td>\n",
       "      <td>1</td>\n",
       "      <td>1</td>\n",
       "    </tr>\n",
       "    <tr>\n",
       "      <th>split3_test_score</th>\n",
       "      <td>0.62963</td>\n",
       "      <td>0.62963</td>\n",
       "      <td>0.62963</td>\n",
       "      <td>0.62963</td>\n",
       "      <td>0.62963</td>\n",
       "    </tr>\n",
       "    <tr>\n",
       "      <th>split3_train_score</th>\n",
       "      <td>1</td>\n",
       "      <td>1</td>\n",
       "      <td>1</td>\n",
       "      <td>1</td>\n",
       "      <td>1</td>\n",
       "    </tr>\n",
       "    <tr>\n",
       "      <th>split4_test_score</th>\n",
       "      <td>0.37037</td>\n",
       "      <td>0.37037</td>\n",
       "      <td>0.37037</td>\n",
       "      <td>0.37037</td>\n",
       "      <td>0.37037</td>\n",
       "    </tr>\n",
       "    <tr>\n",
       "      <th>split4_train_score</th>\n",
       "      <td>1</td>\n",
       "      <td>1</td>\n",
       "      <td>1</td>\n",
       "      <td>1</td>\n",
       "      <td>1</td>\n",
       "    </tr>\n",
       "    <tr>\n",
       "      <th>std_fit_time</th>\n",
       "      <td>0.000650797</td>\n",
       "      <td>0.000349416</td>\n",
       "      <td>0.000264023</td>\n",
       "      <td>0.00125739</td>\n",
       "      <td>0.000199284</td>\n",
       "    </tr>\n",
       "    <tr>\n",
       "      <th>std_score_time</th>\n",
       "      <td>0.000193804</td>\n",
       "      <td>2.17458e-05</td>\n",
       "      <td>1.1108e-05</td>\n",
       "      <td>1.57345e-05</td>\n",
       "      <td>1.51793e-05</td>\n",
       "    </tr>\n",
       "    <tr>\n",
       "      <th>std_test_score</th>\n",
       "      <td>0.0910305</td>\n",
       "      <td>0.0910305</td>\n",
       "      <td>0.0910305</td>\n",
       "      <td>0.0910305</td>\n",
       "      <td>0.0910305</td>\n",
       "    </tr>\n",
       "    <tr>\n",
       "      <th>std_train_score</th>\n",
       "      <td>0</td>\n",
       "      <td>0</td>\n",
       "      <td>0</td>\n",
       "      <td>0</td>\n",
       "      <td>0</td>\n",
       "    </tr>\n",
       "  </tbody>\n",
       "</table>\n",
       "</div>"
      ],
      "text/plain": [
       "                                 0               1               2  \\\n",
       "mean_fit_time           0.00849185      0.00811915      0.00875969   \n",
       "mean_score_time        0.000611401     0.000513744     0.000508165   \n",
       "mean_test_score           0.507143        0.507143        0.507143   \n",
       "mean_train_score                 1               1               1   \n",
       "param_lnr__C                    10              25              50   \n",
       "params              {'lnr__C': 10}  {'lnr__C': 25}  {'lnr__C': 50}   \n",
       "rank_test_score                  1               1               1   \n",
       "split0_test_score         0.586207        0.586207        0.586207   \n",
       "split0_train_score               1               1               1   \n",
       "split1_test_score         0.482759        0.482759        0.482759   \n",
       "split1_train_score               1               1               1   \n",
       "split2_test_score         0.464286        0.464286        0.464286   \n",
       "split2_train_score               1               1               1   \n",
       "split3_test_score          0.62963         0.62963         0.62963   \n",
       "split3_train_score               1               1               1   \n",
       "split4_test_score          0.37037         0.37037         0.37037   \n",
       "split4_train_score               1               1               1   \n",
       "std_fit_time           0.000650797     0.000349416     0.000264023   \n",
       "std_score_time         0.000193804     2.17458e-05      1.1108e-05   \n",
       "std_test_score           0.0910305       0.0910305       0.0910305   \n",
       "std_train_score                  0               0               0   \n",
       "\n",
       "                                 3                4  \n",
       "mean_fit_time           0.00921001       0.00860438  \n",
       "mean_score_time        0.000522184      0.000531101  \n",
       "mean_test_score           0.507143         0.507143  \n",
       "mean_train_score                 1                1  \n",
       "param_lnr__C                    75              100  \n",
       "params              {'lnr__C': 75}  {'lnr__C': 100}  \n",
       "rank_test_score                  1                1  \n",
       "split0_test_score         0.586207         0.586207  \n",
       "split0_train_score               1                1  \n",
       "split1_test_score         0.482759         0.482759  \n",
       "split1_train_score               1                1  \n",
       "split2_test_score         0.464286         0.464286  \n",
       "split2_train_score               1                1  \n",
       "split3_test_score          0.62963          0.62963  \n",
       "split3_train_score               1                1  \n",
       "split4_test_score          0.37037          0.37037  \n",
       "split4_train_score               1                1  \n",
       "std_fit_time            0.00125739      0.000199284  \n",
       "std_score_time         1.57345e-05      1.51793e-05  \n",
       "std_test_score           0.0910305        0.0910305  \n",
       "std_train_score                  0                0  "
      ]
     },
     "execution_count": 21,
     "metadata": {},
     "output_type": "execute_result"
    }
   ],
   "source": [
    "pd.DataFrame(simple2_gs.cv_results_).sort_values(by='rank_test_score').T"
   ]
  },
  {
   "cell_type": "markdown",
   "metadata": {},
   "source": [
    "### Benchmark scores for Linear Regression with high C values"
   ]
  },
  {
   "cell_type": "code",
   "execution_count": 22,
   "metadata": {
    "scrolled": false
   },
   "outputs": [
    {
     "data": {
      "text/plain": [
       "1.0"
      ]
     },
     "execution_count": 22,
     "metadata": {},
     "output_type": "execute_result"
    }
   ],
   "source": [
    "simple2_gs.score(X_train, y_train)"
   ]
  },
  {
   "cell_type": "code",
   "execution_count": 120,
   "metadata": {},
   "outputs": [
    {
     "data": {
      "text/plain": [
       "0.49285714285714288"
      ]
     },
     "execution_count": 120,
     "metadata": {},
     "output_type": "execute_result"
    }
   ],
   "source": [
    "simple2_gs.best_score_"
   ]
  },
  {
   "cell_type": "code",
   "execution_count": 23,
   "metadata": {},
   "outputs": [],
   "source": [
    "#y predictions\n",
    "y_test_pred = simple2_gs.predict(X_test)"
   ]
  },
  {
   "cell_type": "code",
   "execution_count": 27,
   "metadata": {},
   "outputs": [
    {
     "name": "stdout",
     "output_type": "stream",
     "text": [
      "             precision    recall  f1-score   support\n",
      "\n",
      "         -1       0.58      0.43      0.49        35\n",
      "          1       0.41      0.56      0.47        25\n",
      "\n",
      "avg / total       0.51      0.48      0.48        60\n",
      "\n"
     ]
    }
   ],
   "source": [
    "print(classification_report(y_test, y_test_pred))"
   ]
  },
  {
   "cell_type": "code",
   "execution_count": 96,
   "metadata": {},
   "outputs": [
    {
     "data": {
      "text/html": [
       "<div>\n",
       "<table border=\"1\" class=\"dataframe\">\n",
       "  <thead>\n",
       "    <tr style=\"text-align: right;\">\n",
       "      <th></th>\n",
       "      <th>predicted -1</th>\n",
       "      <th>predicted 1</th>\n",
       "    </tr>\n",
       "  </thead>\n",
       "  <tbody>\n",
       "    <tr>\n",
       "      <th>-1</th>\n",
       "      <td>14</td>\n",
       "      <td>18</td>\n",
       "    </tr>\n",
       "    <tr>\n",
       "      <th>1</th>\n",
       "      <td>17</td>\n",
       "      <td>11</td>\n",
       "    </tr>\n",
       "  </tbody>\n",
       "</table>\n",
       "</div>"
      ],
      "text/plain": [
       "    predicted -1  predicted 1\n",
       "-1            14           18\n",
       "1             17           11"
      ]
     },
     "execution_count": 96,
     "metadata": {},
     "output_type": "execute_result"
    }
   ],
   "source": [
    "pd.DataFrame(confusion_matrix(y_test, y_test_pred), columns=['predicted -1', 'predicted 1'], index=['-1', '1'])"
   ]
  },
  {
   "cell_type": "code",
   "execution_count": 97,
   "metadata": {},
   "outputs": [
    {
     "data": {
      "text/plain": [
       "60"
      ]
     },
     "execution_count": 97,
     "metadata": {},
     "output_type": "execute_result"
    }
   ],
   "source": [
    "14+18+17+11"
   ]
  },
  {
   "cell_type": "markdown",
   "metadata": {},
   "source": [
    "# DECISION TREE"
   ]
  },
  {
   "cell_type": "code",
   "execution_count": 28,
   "metadata": {
    "scrolled": true
   },
   "outputs": [],
   "source": [
    "simple_pipe_2 =  Pipeline([\n",
    "    ('tree', tree.DecisionTreeClassifier())\n",
    "])"
   ]
  },
  {
   "cell_type": "code",
   "execution_count": 29,
   "metadata": {},
   "outputs": [
    {
     "data": {
      "text/plain": [
       "Pipeline(steps=[('tree', DecisionTreeClassifier(class_weight=None, criterion='gini', max_depth=None,\n",
       "            max_features=None, max_leaf_nodes=None,\n",
       "            min_impurity_split=1e-07, min_samples_leaf=1,\n",
       "            min_samples_split=2, min_weight_fraction_leaf=0.0,\n",
       "            presort=False, random_state=None, splitter='best'))])"
      ]
     },
     "execution_count": 29,
     "metadata": {},
     "output_type": "execute_result"
    }
   ],
   "source": [
    "simple_pipe_2.fit(X_train, y_train)"
   ]
  },
  {
   "cell_type": "markdown",
   "metadata": {},
   "source": [
    "### Benchmark scores for Decision Tree "
   ]
  },
  {
   "cell_type": "code",
   "execution_count": 30,
   "metadata": {},
   "outputs": [
    {
     "data": {
      "text/plain": [
       "1.0"
      ]
     },
     "execution_count": 30,
     "metadata": {},
     "output_type": "execute_result"
    }
   ],
   "source": [
    "simple_pipe_2.score(X_train, y_train)"
   ]
  },
  {
   "cell_type": "code",
   "execution_count": 31,
   "metadata": {},
   "outputs": [
    {
     "data": {
      "text/plain": [
       "0.46666666666666667"
      ]
     },
     "execution_count": 31,
     "metadata": {},
     "output_type": "execute_result"
    }
   ],
   "source": [
    "simple_pipe_2.score(X_test, y_test)"
   ]
  },
  {
   "cell_type": "markdown",
   "metadata": {},
   "source": [
    "# KNN\n"
   ]
  },
  {
   "cell_type": "code",
   "execution_count": 32,
   "metadata": {},
   "outputs": [],
   "source": [
    "nbrs = NearestNeighbors(n_neighbors=2, algorithm='auto').fit(train_data_10pct_1)"
   ]
  },
  {
   "cell_type": "code",
   "execution_count": 33,
   "metadata": {},
   "outputs": [
    {
     "data": {
      "text/plain": [
       "NearestNeighbors(algorithm='auto', leaf_size=30, metric='minkowski',\n",
       "         metric_params=None, n_jobs=1, n_neighbors=2, p=2, radius=1.0)"
      ]
     },
     "execution_count": 33,
     "metadata": {},
     "output_type": "execute_result"
    }
   ],
   "source": [
    "nbrs"
   ]
  },
  {
   "cell_type": "code",
   "execution_count": 34,
   "metadata": {},
   "outputs": [],
   "source": [
    "neigh = KNeighborsClassifier(n_neighbors=3)"
   ]
  },
  {
   "cell_type": "code",
   "execution_count": 35,
   "metadata": {},
   "outputs": [
    {
     "data": {
      "text/plain": [
       "KNeighborsClassifier(algorithm='auto', leaf_size=30, metric='minkowski',\n",
       "           metric_params=None, n_jobs=1, n_neighbors=3, p=2,\n",
       "           weights='uniform')"
      ]
     },
     "execution_count": 35,
     "metadata": {},
     "output_type": "execute_result"
    }
   ],
   "source": [
    "neigh.fit(X_train, y_train) "
   ]
  },
  {
   "cell_type": "code",
   "execution_count": 36,
   "metadata": {
    "collapsed": true
   },
   "outputs": [
    {
     "data": {
      "text/plain": [
       "array([[ 0.33333333,  0.66666667],\n",
       "       [ 0.33333333,  0.66666667],\n",
       "       [ 0.66666667,  0.33333333],\n",
       "       [ 0.33333333,  0.66666667],\n",
       "       [ 0.33333333,  0.66666667],\n",
       "       [ 0.33333333,  0.66666667],\n",
       "       [ 0.66666667,  0.33333333],\n",
       "       [ 1.        ,  0.        ],\n",
       "       [ 0.66666667,  0.33333333],\n",
       "       [ 0.33333333,  0.66666667],\n",
       "       [ 0.66666667,  0.33333333],\n",
       "       [ 0.66666667,  0.33333333],\n",
       "       [ 0.66666667,  0.33333333],\n",
       "       [ 0.33333333,  0.66666667],\n",
       "       [ 0.33333333,  0.66666667],\n",
       "       [ 0.33333333,  0.66666667],\n",
       "       [ 1.        ,  0.        ],\n",
       "       [ 0.33333333,  0.66666667],\n",
       "       [ 0.33333333,  0.66666667],\n",
       "       [ 0.33333333,  0.66666667],\n",
       "       [ 0.33333333,  0.66666667],\n",
       "       [ 0.66666667,  0.33333333],\n",
       "       [ 0.66666667,  0.33333333],\n",
       "       [ 0.33333333,  0.66666667],\n",
       "       [ 0.        ,  1.        ],\n",
       "       [ 0.66666667,  0.33333333],\n",
       "       [ 0.66666667,  0.33333333],\n",
       "       [ 0.33333333,  0.66666667],\n",
       "       [ 0.33333333,  0.66666667],\n",
       "       [ 0.33333333,  0.66666667],\n",
       "       [ 0.        ,  1.        ],\n",
       "       [ 0.33333333,  0.66666667],\n",
       "       [ 0.33333333,  0.66666667],\n",
       "       [ 0.33333333,  0.66666667],\n",
       "       [ 0.        ,  1.        ],\n",
       "       [ 0.        ,  1.        ],\n",
       "       [ 0.33333333,  0.66666667],\n",
       "       [ 0.66666667,  0.33333333],\n",
       "       [ 0.33333333,  0.66666667],\n",
       "       [ 0.        ,  1.        ],\n",
       "       [ 0.33333333,  0.66666667],\n",
       "       [ 0.33333333,  0.66666667],\n",
       "       [ 0.33333333,  0.66666667],\n",
       "       [ 1.        ,  0.        ],\n",
       "       [ 0.33333333,  0.66666667],\n",
       "       [ 0.33333333,  0.66666667],\n",
       "       [ 1.        ,  0.        ],\n",
       "       [ 0.        ,  1.        ],\n",
       "       [ 0.        ,  1.        ],\n",
       "       [ 0.66666667,  0.33333333],\n",
       "       [ 0.33333333,  0.66666667],\n",
       "       [ 0.33333333,  0.66666667],\n",
       "       [ 0.33333333,  0.66666667],\n",
       "       [ 0.33333333,  0.66666667],\n",
       "       [ 0.33333333,  0.66666667],\n",
       "       [ 0.66666667,  0.33333333],\n",
       "       [ 0.33333333,  0.66666667],\n",
       "       [ 0.33333333,  0.66666667],\n",
       "       [ 0.33333333,  0.66666667],\n",
       "       [ 0.33333333,  0.66666667],\n",
       "       [ 0.        ,  1.        ],\n",
       "       [ 1.        ,  0.        ],\n",
       "       [ 0.66666667,  0.33333333],\n",
       "       [ 0.33333333,  0.66666667],\n",
       "       [ 0.33333333,  0.66666667],\n",
       "       [ 0.        ,  1.        ],\n",
       "       [ 0.33333333,  0.66666667],\n",
       "       [ 0.33333333,  0.66666667],\n",
       "       [ 0.33333333,  0.66666667],\n",
       "       [ 0.66666667,  0.33333333],\n",
       "       [ 0.66666667,  0.33333333],\n",
       "       [ 0.        ,  1.        ],\n",
       "       [ 0.66666667,  0.33333333],\n",
       "       [ 0.33333333,  0.66666667],\n",
       "       [ 0.        ,  1.        ],\n",
       "       [ 0.        ,  1.        ],\n",
       "       [ 0.33333333,  0.66666667],\n",
       "       [ 0.33333333,  0.66666667],\n",
       "       [ 0.33333333,  0.66666667],\n",
       "       [ 0.33333333,  0.66666667],\n",
       "       [ 0.        ,  1.        ],\n",
       "       [ 0.33333333,  0.66666667],\n",
       "       [ 0.        ,  1.        ],\n",
       "       [ 0.33333333,  0.66666667],\n",
       "       [ 0.66666667,  0.33333333],\n",
       "       [ 0.33333333,  0.66666667],\n",
       "       [ 0.33333333,  0.66666667],\n",
       "       [ 0.33333333,  0.66666667],\n",
       "       [ 0.33333333,  0.66666667],\n",
       "       [ 1.        ,  0.        ],\n",
       "       [ 0.        ,  1.        ],\n",
       "       [ 0.        ,  1.        ],\n",
       "       [ 0.33333333,  0.66666667],\n",
       "       [ 0.66666667,  0.33333333],\n",
       "       [ 1.        ,  0.        ],\n",
       "       [ 0.66666667,  0.33333333],\n",
       "       [ 0.33333333,  0.66666667],\n",
       "       [ 0.33333333,  0.66666667],\n",
       "       [ 0.33333333,  0.66666667],\n",
       "       [ 0.33333333,  0.66666667],\n",
       "       [ 0.66666667,  0.33333333],\n",
       "       [ 0.33333333,  0.66666667],\n",
       "       [ 0.        ,  1.        ],\n",
       "       [ 0.33333333,  0.66666667],\n",
       "       [ 0.33333333,  0.66666667],\n",
       "       [ 0.33333333,  0.66666667],\n",
       "       [ 0.33333333,  0.66666667],\n",
       "       [ 0.33333333,  0.66666667],\n",
       "       [ 0.33333333,  0.66666667],\n",
       "       [ 1.        ,  0.        ],\n",
       "       [ 1.        ,  0.        ],\n",
       "       [ 0.33333333,  0.66666667],\n",
       "       [ 0.        ,  1.        ],\n",
       "       [ 0.33333333,  0.66666667],\n",
       "       [ 1.        ,  0.        ],\n",
       "       [ 0.33333333,  0.66666667],\n",
       "       [ 0.        ,  1.        ],\n",
       "       [ 0.        ,  1.        ],\n",
       "       [ 0.66666667,  0.33333333],\n",
       "       [ 0.66666667,  0.33333333],\n",
       "       [ 0.33333333,  0.66666667],\n",
       "       [ 0.33333333,  0.66666667],\n",
       "       [ 0.33333333,  0.66666667],\n",
       "       [ 0.        ,  1.        ],\n",
       "       [ 0.        ,  1.        ],\n",
       "       [ 0.33333333,  0.66666667],\n",
       "       [ 0.33333333,  0.66666667],\n",
       "       [ 0.66666667,  0.33333333],\n",
       "       [ 0.66666667,  0.33333333],\n",
       "       [ 0.66666667,  0.33333333],\n",
       "       [ 0.66666667,  0.33333333],\n",
       "       [ 0.33333333,  0.66666667],\n",
       "       [ 0.33333333,  0.66666667],\n",
       "       [ 0.33333333,  0.66666667],\n",
       "       [ 0.33333333,  0.66666667],\n",
       "       [ 0.        ,  1.        ],\n",
       "       [ 0.66666667,  0.33333333],\n",
       "       [ 0.33333333,  0.66666667],\n",
       "       [ 0.        ,  1.        ],\n",
       "       [ 0.        ,  1.        ]])"
      ]
     },
     "execution_count": 36,
     "metadata": {},
     "output_type": "execute_result"
    }
   ],
   "source": [
    "neigh.predict_proba(X_train)"
   ]
  },
  {
   "cell_type": "markdown",
   "metadata": {},
   "source": [
    "### Benchmark scores for KNN"
   ]
  },
  {
   "cell_type": "code",
   "execution_count": 37,
   "metadata": {},
   "outputs": [
    {
     "data": {
      "text/plain": [
       "0.7142857142857143"
      ]
     },
     "execution_count": 37,
     "metadata": {},
     "output_type": "execute_result"
    }
   ],
   "source": [
    "neigh.score(X_train, y_train, sample_weight=None)"
   ]
  },
  {
   "cell_type": "code",
   "execution_count": 38,
   "metadata": {},
   "outputs": [
    {
     "data": {
      "text/plain": [
       "0.51666666666666672"
      ]
     },
     "execution_count": 38,
     "metadata": {},
     "output_type": "execute_result"
    }
   ],
   "source": [
    "neigh.score(X_test, y_test, sample_weight=None)"
   ]
  },
  {
   "cell_type": "markdown",
   "metadata": {},
   "source": [
    "# SVC"
   ]
  },
  {
   "cell_type": "code",
   "execution_count": 39,
   "metadata": {},
   "outputs": [],
   "source": [
    "simple_pipe_3 =  Pipeline([\n",
    "    ('svm', svm.SVC())\n",
    "])"
   ]
  },
  {
   "cell_type": "code",
   "execution_count": 40,
   "metadata": {},
   "outputs": [],
   "source": [
    "simple_param_3 = {\n",
    "    'svm__C': [10,25,50,75,100]\n",
    "}"
   ]
  },
  {
   "cell_type": "code",
   "execution_count": 41,
   "metadata": {},
   "outputs": [],
   "source": [
    "simple3_gs = GridSearchCV(simple_pipe_3, param_grid=simple_param_3, cv=5, n_jobs=-1, verbose=1)"
   ]
  },
  {
   "cell_type": "code",
   "execution_count": 42,
   "metadata": {},
   "outputs": [
    {
     "name": "stdout",
     "output_type": "stream",
     "text": [
      "Fitting 5 folds for each of 5 candidates, totalling 25 fits\n"
     ]
    },
    {
     "name": "stderr",
     "output_type": "stream",
     "text": [
      "[Parallel(n_jobs=-1)]: Done  25 out of  25 | elapsed:    0.2s finished\n"
     ]
    },
    {
     "data": {
      "text/plain": [
       "GridSearchCV(cv=5, error_score='raise',\n",
       "       estimator=Pipeline(steps=[('svm', SVC(C=1.0, cache_size=200, class_weight=None, coef0=0.0,\n",
       "  decision_function_shape=None, degree=3, gamma='auto', kernel='rbf',\n",
       "  max_iter=-1, probability=False, random_state=None, shrinking=True,\n",
       "  tol=0.001, verbose=False))]),\n",
       "       fit_params={}, iid=True, n_jobs=-1,\n",
       "       param_grid={'svm__C': [10, 25, 50, 75, 100]},\n",
       "       pre_dispatch='2*n_jobs', refit=True, return_train_score=True,\n",
       "       scoring=None, verbose=1)"
      ]
     },
     "execution_count": 42,
     "metadata": {},
     "output_type": "execute_result"
    }
   ],
   "source": [
    "simple3_gs.fit(X_test, y_test) "
   ]
  },
  {
   "cell_type": "markdown",
   "metadata": {},
   "source": [
    "### Benchmark scores for SVC with high C values"
   ]
  },
  {
   "cell_type": "code",
   "execution_count": 43,
   "metadata": {},
   "outputs": [
    {
     "data": {
      "text/plain": [
       "1.0"
      ]
     },
     "execution_count": 43,
     "metadata": {},
     "output_type": "execute_result"
    }
   ],
   "source": [
    "simple3_gs.score(X_test, y_test) "
   ]
  },
  {
   "cell_type": "code",
   "execution_count": 44,
   "metadata": {},
   "outputs": [
    {
     "data": {
      "text/plain": [
       "0.58333333333333337"
      ]
     },
     "execution_count": 44,
     "metadata": {},
     "output_type": "execute_result"
    }
   ],
   "source": [
    "simple3_gs.best_score_"
   ]
  },
  {
   "cell_type": "code",
   "execution_count": 45,
   "metadata": {},
   "outputs": [
    {
     "data": {
      "text/html": [
       "<div>\n",
       "<table border=\"1\" class=\"dataframe\">\n",
       "  <thead>\n",
       "    <tr style=\"text-align: right;\">\n",
       "      <th></th>\n",
       "      <th>0</th>\n",
       "      <th>1</th>\n",
       "      <th>2</th>\n",
       "      <th>3</th>\n",
       "      <th>4</th>\n",
       "    </tr>\n",
       "  </thead>\n",
       "  <tbody>\n",
       "    <tr>\n",
       "      <th>mean_fit_time</th>\n",
       "      <td>0.00322428</td>\n",
       "      <td>0.00308552</td>\n",
       "      <td>0.00308661</td>\n",
       "      <td>0.00307021</td>\n",
       "      <td>0.00316405</td>\n",
       "    </tr>\n",
       "    <tr>\n",
       "      <th>mean_score_time</th>\n",
       "      <td>0.000713968</td>\n",
       "      <td>0.000794125</td>\n",
       "      <td>0.000695467</td>\n",
       "      <td>0.000690699</td>\n",
       "      <td>0.000705051</td>\n",
       "    </tr>\n",
       "    <tr>\n",
       "      <th>mean_test_score</th>\n",
       "      <td>0.583333</td>\n",
       "      <td>0.583333</td>\n",
       "      <td>0.583333</td>\n",
       "      <td>0.583333</td>\n",
       "      <td>0.583333</td>\n",
       "    </tr>\n",
       "    <tr>\n",
       "      <th>mean_train_score</th>\n",
       "      <td>1</td>\n",
       "      <td>1</td>\n",
       "      <td>1</td>\n",
       "      <td>1</td>\n",
       "      <td>1</td>\n",
       "    </tr>\n",
       "    <tr>\n",
       "      <th>param_svm__C</th>\n",
       "      <td>10</td>\n",
       "      <td>25</td>\n",
       "      <td>50</td>\n",
       "      <td>75</td>\n",
       "      <td>100</td>\n",
       "    </tr>\n",
       "    <tr>\n",
       "      <th>params</th>\n",
       "      <td>{'svm__C': 10}</td>\n",
       "      <td>{'svm__C': 25}</td>\n",
       "      <td>{'svm__C': 50}</td>\n",
       "      <td>{'svm__C': 75}</td>\n",
       "      <td>{'svm__C': 100}</td>\n",
       "    </tr>\n",
       "    <tr>\n",
       "      <th>rank_test_score</th>\n",
       "      <td>1</td>\n",
       "      <td>1</td>\n",
       "      <td>1</td>\n",
       "      <td>1</td>\n",
       "      <td>1</td>\n",
       "    </tr>\n",
       "    <tr>\n",
       "      <th>split0_test_score</th>\n",
       "      <td>0.583333</td>\n",
       "      <td>0.583333</td>\n",
       "      <td>0.583333</td>\n",
       "      <td>0.583333</td>\n",
       "      <td>0.583333</td>\n",
       "    </tr>\n",
       "    <tr>\n",
       "      <th>split0_train_score</th>\n",
       "      <td>1</td>\n",
       "      <td>1</td>\n",
       "      <td>1</td>\n",
       "      <td>1</td>\n",
       "      <td>1</td>\n",
       "    </tr>\n",
       "    <tr>\n",
       "      <th>split1_test_score</th>\n",
       "      <td>0.583333</td>\n",
       "      <td>0.583333</td>\n",
       "      <td>0.583333</td>\n",
       "      <td>0.583333</td>\n",
       "      <td>0.583333</td>\n",
       "    </tr>\n",
       "    <tr>\n",
       "      <th>split1_train_score</th>\n",
       "      <td>1</td>\n",
       "      <td>1</td>\n",
       "      <td>1</td>\n",
       "      <td>1</td>\n",
       "      <td>1</td>\n",
       "    </tr>\n",
       "    <tr>\n",
       "      <th>split2_test_score</th>\n",
       "      <td>0.583333</td>\n",
       "      <td>0.583333</td>\n",
       "      <td>0.583333</td>\n",
       "      <td>0.583333</td>\n",
       "      <td>0.583333</td>\n",
       "    </tr>\n",
       "    <tr>\n",
       "      <th>split2_train_score</th>\n",
       "      <td>1</td>\n",
       "      <td>1</td>\n",
       "      <td>1</td>\n",
       "      <td>1</td>\n",
       "      <td>1</td>\n",
       "    </tr>\n",
       "    <tr>\n",
       "      <th>split3_test_score</th>\n",
       "      <td>0.583333</td>\n",
       "      <td>0.583333</td>\n",
       "      <td>0.583333</td>\n",
       "      <td>0.583333</td>\n",
       "      <td>0.583333</td>\n",
       "    </tr>\n",
       "    <tr>\n",
       "      <th>split3_train_score</th>\n",
       "      <td>1</td>\n",
       "      <td>1</td>\n",
       "      <td>1</td>\n",
       "      <td>1</td>\n",
       "      <td>1</td>\n",
       "    </tr>\n",
       "    <tr>\n",
       "      <th>split4_test_score</th>\n",
       "      <td>0.583333</td>\n",
       "      <td>0.583333</td>\n",
       "      <td>0.583333</td>\n",
       "      <td>0.583333</td>\n",
       "      <td>0.583333</td>\n",
       "    </tr>\n",
       "    <tr>\n",
       "      <th>split4_train_score</th>\n",
       "      <td>1</td>\n",
       "      <td>1</td>\n",
       "      <td>1</td>\n",
       "      <td>1</td>\n",
       "      <td>1</td>\n",
       "    </tr>\n",
       "    <tr>\n",
       "      <th>std_fit_time</th>\n",
       "      <td>0.000206496</td>\n",
       "      <td>2.93689e-05</td>\n",
       "      <td>5.80525e-05</td>\n",
       "      <td>4.9809e-05</td>\n",
       "      <td>5.90089e-05</td>\n",
       "    </tr>\n",
       "    <tr>\n",
       "      <th>std_score_time</th>\n",
       "      <td>2.81098e-05</td>\n",
       "      <td>0.000159689</td>\n",
       "      <td>1.88221e-05</td>\n",
       "      <td>3.06892e-05</td>\n",
       "      <td>3.64668e-05</td>\n",
       "    </tr>\n",
       "    <tr>\n",
       "      <th>std_test_score</th>\n",
       "      <td>0</td>\n",
       "      <td>0</td>\n",
       "      <td>0</td>\n",
       "      <td>0</td>\n",
       "      <td>0</td>\n",
       "    </tr>\n",
       "    <tr>\n",
       "      <th>std_train_score</th>\n",
       "      <td>0</td>\n",
       "      <td>0</td>\n",
       "      <td>0</td>\n",
       "      <td>0</td>\n",
       "      <td>0</td>\n",
       "    </tr>\n",
       "  </tbody>\n",
       "</table>\n",
       "</div>"
      ],
      "text/plain": [
       "                                 0               1               2  \\\n",
       "mean_fit_time           0.00322428      0.00308552      0.00308661   \n",
       "mean_score_time        0.000713968     0.000794125     0.000695467   \n",
       "mean_test_score           0.583333        0.583333        0.583333   \n",
       "mean_train_score                 1               1               1   \n",
       "param_svm__C                    10              25              50   \n",
       "params              {'svm__C': 10}  {'svm__C': 25}  {'svm__C': 50}   \n",
       "rank_test_score                  1               1               1   \n",
       "split0_test_score         0.583333        0.583333        0.583333   \n",
       "split0_train_score               1               1               1   \n",
       "split1_test_score         0.583333        0.583333        0.583333   \n",
       "split1_train_score               1               1               1   \n",
       "split2_test_score         0.583333        0.583333        0.583333   \n",
       "split2_train_score               1               1               1   \n",
       "split3_test_score         0.583333        0.583333        0.583333   \n",
       "split3_train_score               1               1               1   \n",
       "split4_test_score         0.583333        0.583333        0.583333   \n",
       "split4_train_score               1               1               1   \n",
       "std_fit_time           0.000206496     2.93689e-05     5.80525e-05   \n",
       "std_score_time         2.81098e-05     0.000159689     1.88221e-05   \n",
       "std_test_score                   0               0               0   \n",
       "std_train_score                  0               0               0   \n",
       "\n",
       "                                 3                4  \n",
       "mean_fit_time           0.00307021       0.00316405  \n",
       "mean_score_time        0.000690699      0.000705051  \n",
       "mean_test_score           0.583333         0.583333  \n",
       "mean_train_score                 1                1  \n",
       "param_svm__C                    75              100  \n",
       "params              {'svm__C': 75}  {'svm__C': 100}  \n",
       "rank_test_score                  1                1  \n",
       "split0_test_score         0.583333         0.583333  \n",
       "split0_train_score               1                1  \n",
       "split1_test_score         0.583333         0.583333  \n",
       "split1_train_score               1                1  \n",
       "split2_test_score         0.583333         0.583333  \n",
       "split2_train_score               1                1  \n",
       "split3_test_score         0.583333         0.583333  \n",
       "split3_train_score               1                1  \n",
       "split4_test_score         0.583333         0.583333  \n",
       "split4_train_score               1                1  \n",
       "std_fit_time            4.9809e-05      5.90089e-05  \n",
       "std_score_time         3.06892e-05      3.64668e-05  \n",
       "std_test_score                   0                0  \n",
       "std_train_score                  0                0  "
      ]
     },
     "execution_count": 45,
     "metadata": {},
     "output_type": "execute_result"
    }
   ],
   "source": [
    "pd.DataFrame(simple3_gs.cv_results_).sort_values(by='rank_test_score').T"
   ]
  },
  {
   "cell_type": "code",
   "execution_count": null,
   "metadata": {},
   "outputs": [],
   "source": []
  }
 ],
 "metadata": {
  "kernelspec": {
   "display_name": "Python 3",
   "language": "python",
   "name": "python3"
  }
 },
 "nbformat": 4,
 "nbformat_minor": 2
}
