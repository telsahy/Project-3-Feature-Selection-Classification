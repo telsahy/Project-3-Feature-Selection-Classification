{
 "cells": [
  {
   "cell_type": "code",
   "execution_count": 1,
   "metadata": {},
   "outputs": [],
   "source": [
    "from sklearn.datasets import make_classification\n",
    "import matplotlib.pyplot as plt\n",
    "import pandas as pd\n",
    "import numpy as np\n",
    "from sklearn.decomposition import PCA\n",
    "from sklearn.svm import SVC\n",
    "from sklearn.metrics import accuracy_score\n",
    "from sklearn.feature_selection import RFE\n",
    "from sklearn import linear_model\n",
    "from sklearn.neighbors import NearestNeighbors\n",
    "from sklearn.neighbors import KNeighborsClassifier\n",
    "from sklearn.model_selection import train_test_split\n",
    "from sklearn.linear_model import LogisticRegression\n",
    "from sklearn.preprocessing import StandardScaler\n",
    "from sklearn.tree import DecisionTreeClassifier\n",
    "from sklearn import svm\n",
    "from sklearn.model_selection import GridSearchCV\n",
    "from sklearn.pipeline import Pipeline\n",
    "from sklearn.feature_selection import SelectKBest, SelectFromModel, f_regression\n",
    "import seaborn as sns\n",
    "%matplotlib inline"
   ]
  },
  {
   "cell_type": "markdown",
   "metadata": {},
   "source": [
    "## Importing and sampling the UCI data / basic EDA"
   ]
  },
  {
   "cell_type": "markdown",
   "metadata": {},
   "source": [
    "### FIRST BATCH OF 2200"
   ]
  },
  {
   "cell_type": "code",
   "execution_count": 2,
   "metadata": {},
   "outputs": [],
   "source": [
    "X = pd.read_pickle('./data/first_batch_X.p')"
   ]
  },
  {
   "cell_type": "code",
   "execution_count": 15,
   "metadata": {},
   "outputs": [],
   "source": [
    "y = pd.read_pickle('./data/first_batch_labels.p')"
   ]
  },
  {
   "cell_type": "code",
   "execution_count": 16,
   "metadata": {
    "scrolled": true
   },
   "outputs": [
    {
     "data": {
      "text/html": [
       "<div>\n",
       "<table border=\"1\" class=\"dataframe\">\n",
       "  <thead>\n",
       "    <tr style=\"text-align: right;\">\n",
       "      <th></th>\n",
       "      <th>feat_000</th>\n",
       "      <th>feat_001</th>\n",
       "      <th>feat_002</th>\n",
       "      <th>feat_003</th>\n",
       "      <th>feat_004</th>\n",
       "      <th>feat_005</th>\n",
       "      <th>feat_006</th>\n",
       "      <th>feat_007</th>\n",
       "      <th>feat_008</th>\n",
       "      <th>feat_009</th>\n",
       "      <th>...</th>\n",
       "      <th>feat_990</th>\n",
       "      <th>feat_991</th>\n",
       "      <th>feat_992</th>\n",
       "      <th>feat_993</th>\n",
       "      <th>feat_994</th>\n",
       "      <th>feat_995</th>\n",
       "      <th>feat_996</th>\n",
       "      <th>feat_997</th>\n",
       "      <th>feat_998</th>\n",
       "      <th>feat_999</th>\n",
       "    </tr>\n",
       "    <tr>\n",
       "      <th>_id</th>\n",
       "      <th></th>\n",
       "      <th></th>\n",
       "      <th></th>\n",
       "      <th></th>\n",
       "      <th></th>\n",
       "      <th></th>\n",
       "      <th></th>\n",
       "      <th></th>\n",
       "      <th></th>\n",
       "      <th></th>\n",
       "      <th></th>\n",
       "      <th></th>\n",
       "      <th></th>\n",
       "      <th></th>\n",
       "      <th></th>\n",
       "      <th></th>\n",
       "      <th></th>\n",
       "      <th></th>\n",
       "      <th></th>\n",
       "      <th></th>\n",
       "      <th></th>\n",
       "    </tr>\n",
       "  </thead>\n",
       "  <tbody>\n",
       "    <tr>\n",
       "      <th>68411</th>\n",
       "      <td>0.020855</td>\n",
       "      <td>0.578265</td>\n",
       "      <td>-0.136120</td>\n",
       "      <td>-0.410538</td>\n",
       "      <td>-1.772283</td>\n",
       "      <td>1.187936</td>\n",
       "      <td>0.402231</td>\n",
       "      <td>1.176466</td>\n",
       "      <td>-0.792536</td>\n",
       "      <td>-1.821266</td>\n",
       "      <td>...</td>\n",
       "      <td>-1.492082</td>\n",
       "      <td>-0.302283</td>\n",
       "      <td>-0.259279</td>\n",
       "      <td>-1.326535</td>\n",
       "      <td>-1.993000</td>\n",
       "      <td>0.540589</td>\n",
       "      <td>-1.205038</td>\n",
       "      <td>-0.581775</td>\n",
       "      <td>-0.613431</td>\n",
       "      <td>0.365626</td>\n",
       "    </tr>\n",
       "    <tr>\n",
       "      <th>118486</th>\n",
       "      <td>-0.668980</td>\n",
       "      <td>0.411098</td>\n",
       "      <td>-0.818625</td>\n",
       "      <td>-0.680110</td>\n",
       "      <td>1.437646</td>\n",
       "      <td>0.638755</td>\n",
       "      <td>0.201362</td>\n",
       "      <td>0.467585</td>\n",
       "      <td>-0.347586</td>\n",
       "      <td>0.962761</td>\n",
       "      <td>...</td>\n",
       "      <td>0.337309</td>\n",
       "      <td>0.404857</td>\n",
       "      <td>0.594332</td>\n",
       "      <td>0.801810</td>\n",
       "      <td>0.108186</td>\n",
       "      <td>0.218923</td>\n",
       "      <td>-0.433100</td>\n",
       "      <td>-1.383996</td>\n",
       "      <td>1.760135</td>\n",
       "      <td>0.256725</td>\n",
       "    </tr>\n",
       "    <tr>\n",
       "      <th>26213</th>\n",
       "      <td>-0.255765</td>\n",
       "      <td>0.040380</td>\n",
       "      <td>1.292950</td>\n",
       "      <td>-0.478335</td>\n",
       "      <td>-0.688653</td>\n",
       "      <td>-0.094722</td>\n",
       "      <td>0.387218</td>\n",
       "      <td>-0.938971</td>\n",
       "      <td>-1.000622</td>\n",
       "      <td>1.521842</td>\n",
       "      <td>...</td>\n",
       "      <td>-0.475559</td>\n",
       "      <td>0.576874</td>\n",
       "      <td>2.402998</td>\n",
       "      <td>0.330567</td>\n",
       "      <td>1.089679</td>\n",
       "      <td>1.599995</td>\n",
       "      <td>0.173667</td>\n",
       "      <td>-0.705471</td>\n",
       "      <td>0.473086</td>\n",
       "      <td>-0.595255</td>\n",
       "    </tr>\n",
       "    <tr>\n",
       "      <th>121169</th>\n",
       "      <td>-0.118851</td>\n",
       "      <td>-1.572511</td>\n",
       "      <td>0.104159</td>\n",
       "      <td>1.283724</td>\n",
       "      <td>0.024256</td>\n",
       "      <td>-0.257493</td>\n",
       "      <td>0.374294</td>\n",
       "      <td>-0.893251</td>\n",
       "      <td>-0.098985</td>\n",
       "      <td>0.223367</td>\n",
       "      <td>...</td>\n",
       "      <td>0.102171</td>\n",
       "      <td>-0.256557</td>\n",
       "      <td>0.064411</td>\n",
       "      <td>-1.307146</td>\n",
       "      <td>-1.028803</td>\n",
       "      <td>-0.813137</td>\n",
       "      <td>1.492722</td>\n",
       "      <td>1.395631</td>\n",
       "      <td>1.233597</td>\n",
       "      <td>0.769766</td>\n",
       "    </tr>\n",
       "    <tr>\n",
       "      <th>87524</th>\n",
       "      <td>-0.269251</td>\n",
       "      <td>1.187003</td>\n",
       "      <td>-1.003767</td>\n",
       "      <td>1.106124</td>\n",
       "      <td>1.524958</td>\n",
       "      <td>0.182640</td>\n",
       "      <td>0.801729</td>\n",
       "      <td>-1.491610</td>\n",
       "      <td>-0.143916</td>\n",
       "      <td>0.399354</td>\n",
       "      <td>...</td>\n",
       "      <td>2.051286</td>\n",
       "      <td>-0.200767</td>\n",
       "      <td>-1.292400</td>\n",
       "      <td>-0.173536</td>\n",
       "      <td>0.937770</td>\n",
       "      <td>2.080136</td>\n",
       "      <td>-0.412230</td>\n",
       "      <td>2.234453</td>\n",
       "      <td>-0.906541</td>\n",
       "      <td>1.336438</td>\n",
       "    </tr>\n",
       "  </tbody>\n",
       "</table>\n",
       "<p>5 rows × 1000 columns</p>\n",
       "</div>"
      ],
      "text/plain": [
       "        feat_000  feat_001  feat_002  feat_003  feat_004  feat_005  feat_006  \\\n",
       "_id                                                                            \n",
       "68411   0.020855  0.578265 -0.136120 -0.410538 -1.772283  1.187936  0.402231   \n",
       "118486 -0.668980  0.411098 -0.818625 -0.680110  1.437646  0.638755  0.201362   \n",
       "26213  -0.255765  0.040380  1.292950 -0.478335 -0.688653 -0.094722  0.387218   \n",
       "121169 -0.118851 -1.572511  0.104159  1.283724  0.024256 -0.257493  0.374294   \n",
       "87524  -0.269251  1.187003 -1.003767  1.106124  1.524958  0.182640  0.801729   \n",
       "\n",
       "        feat_007  feat_008  feat_009    ...     feat_990  feat_991  feat_992  \\\n",
       "_id                                     ...                                    \n",
       "68411   1.176466 -0.792536 -1.821266    ...    -1.492082 -0.302283 -0.259279   \n",
       "118486  0.467585 -0.347586  0.962761    ...     0.337309  0.404857  0.594332   \n",
       "26213  -0.938971 -1.000622  1.521842    ...    -0.475559  0.576874  2.402998   \n",
       "121169 -0.893251 -0.098985  0.223367    ...     0.102171 -0.256557  0.064411   \n",
       "87524  -1.491610 -0.143916  0.399354    ...     2.051286 -0.200767 -1.292400   \n",
       "\n",
       "        feat_993  feat_994  feat_995  feat_996  feat_997  feat_998  feat_999  \n",
       "_id                                                                           \n",
       "68411  -1.326535 -1.993000  0.540589 -1.205038 -0.581775 -0.613431  0.365626  \n",
       "118486  0.801810  0.108186  0.218923 -0.433100 -1.383996  1.760135  0.256725  \n",
       "26213   0.330567  1.089679  1.599995  0.173667 -0.705471  0.473086 -0.595255  \n",
       "121169 -1.307146 -1.028803 -0.813137  1.492722  1.395631  1.233597  0.769766  \n",
       "87524  -0.173536  0.937770  2.080136 -0.412230  2.234453 -0.906541  1.336438  \n",
       "\n",
       "[5 rows x 1000 columns]"
      ]
     },
     "execution_count": 16,
     "metadata": {},
     "output_type": "execute_result"
    }
   ],
   "source": [
    "X.head()"
   ]
  },
  {
   "cell_type": "code",
   "execution_count": 17,
   "metadata": {},
   "outputs": [
    {
     "data": {
      "text/plain": [
       "_id\n",
       "68411     1\n",
       "118486    1\n",
       "26213     1\n",
       "121169    0\n",
       "87524     0\n",
       "Name: target, dtype: int64"
      ]
     },
     "execution_count": 17,
     "metadata": {},
     "output_type": "execute_result"
    }
   ],
   "source": [
    "y.head()"
   ]
  },
  {
   "cell_type": "code",
   "execution_count": 18,
   "metadata": {},
   "outputs": [
    {
     "data": {
      "text/plain": [
       "((2200, 1000), (2200,))"
      ]
     },
     "execution_count": 18,
     "metadata": {},
     "output_type": "execute_result"
    }
   ],
   "source": [
    "X.shape, y.shape"
   ]
  },
  {
   "cell_type": "markdown",
   "metadata": {},
   "source": [
    "## Preparing train, test split for:\n",
    "\n",
    "- logistic regression\n",
    "- decision tree\n",
    "- k nearest neighbors\n",
    "- support vector classifier\n",
    "\n",
    "\"in order to do this, you will need to set a high C value in order to perform minimal regularization, in the case of logistic regression and support vector classifier.\""
   ]
  },
  {
   "cell_type": "code",
   "execution_count": 19,
   "metadata": {},
   "outputs": [],
   "source": [
    "X_train, X_test, y_train, y_test = train_test_split(X,\n",
    "                                                    y,\n",
    "                                                    test_size = .3,\n",
    "                                                    )"
   ]
  },
  {
   "cell_type": "code",
   "execution_count": 20,
   "metadata": {},
   "outputs": [
    {
     "data": {
      "text/plain": [
       "((1540, 1000), (1540,))"
      ]
     },
     "execution_count": 20,
     "metadata": {},
     "output_type": "execute_result"
    }
   ],
   "source": [
    "X_train.shape, y_train.shape"
   ]
  },
  {
   "cell_type": "code",
   "execution_count": 21,
   "metadata": {},
   "outputs": [],
   "source": [
    "simple_pipe_1 = Pipeline([\n",
    "    ('lnr',  LogisticRegression())\n",
    "])"
   ]
  },
  {
   "cell_type": "code",
   "execution_count": 22,
   "metadata": {},
   "outputs": [],
   "source": [
    "simple_param_1 = {\n",
    "    'lnr__C': [10,25,50,75,100]\n",
    "}"
   ]
  },
  {
   "cell_type": "code",
   "execution_count": 23,
   "metadata": {},
   "outputs": [],
   "source": [
    "simple2_gs = GridSearchCV(simple_pipe_1, param_grid=simple_param_1, cv=2, n_jobs=-1, verbose=1)"
   ]
  },
  {
   "cell_type": "code",
   "execution_count": 24,
   "metadata": {},
   "outputs": [
    {
     "name": "stdout",
     "output_type": "stream",
     "text": [
      "Fitting 2 folds for each of 5 candidates, totalling 10 fits\n"
     ]
    },
    {
     "name": "stderr",
     "output_type": "stream",
     "text": [
      "[Parallel(n_jobs=-1)]: Done  10 out of  10 | elapsed:    2.4s finished\n"
     ]
    },
    {
     "data": {
      "text/plain": [
       "GridSearchCV(cv=2, error_score='raise',\n",
       "       estimator=Pipeline(steps=[('lnr', LogisticRegression(C=1.0, class_weight=None, dual=False, fit_intercept=True,\n",
       "          intercept_scaling=1, max_iter=100, multi_class='ovr', n_jobs=1,\n",
       "          penalty='l2', random_state=None, solver='liblinear', tol=0.0001,\n",
       "          verbose=0, warm_start=False))]),\n",
       "       fit_params={}, iid=True, n_jobs=-1,\n",
       "       param_grid={'lnr__C': [10, 25, 50, 75, 100]},\n",
       "       pre_dispatch='2*n_jobs', refit=True, return_train_score=True,\n",
       "       scoring=None, verbose=1)"
      ]
     },
     "execution_count": 24,
     "metadata": {},
     "output_type": "execute_result"
    }
   ],
   "source": [
    "simple2_gs.fit(X_train, y_train)"
   ]
  },
  {
   "cell_type": "code",
   "execution_count": 25,
   "metadata": {},
   "outputs": [
    {
     "data": {
      "text/html": [
       "<div>\n",
       "<table border=\"1\" class=\"dataframe\">\n",
       "  <thead>\n",
       "    <tr style=\"text-align: right;\">\n",
       "      <th></th>\n",
       "      <th>0</th>\n",
       "      <th>1</th>\n",
       "      <th>2</th>\n",
       "      <th>3</th>\n",
       "      <th>4</th>\n",
       "    </tr>\n",
       "  </thead>\n",
       "  <tbody>\n",
       "    <tr>\n",
       "      <th>mean_fit_time</th>\n",
       "      <td>0.229013</td>\n",
       "      <td>0.223942</td>\n",
       "      <td>0.236809</td>\n",
       "      <td>0.254783</td>\n",
       "      <td>0.247419</td>\n",
       "    </tr>\n",
       "    <tr>\n",
       "      <th>mean_score_time</th>\n",
       "      <td>0.0014652</td>\n",
       "      <td>0.00144172</td>\n",
       "      <td>0.00145471</td>\n",
       "      <td>0.00142419</td>\n",
       "      <td>0.00141573</td>\n",
       "    </tr>\n",
       "    <tr>\n",
       "      <th>mean_test_score</th>\n",
       "      <td>0.537662</td>\n",
       "      <td>0.536364</td>\n",
       "      <td>0.536364</td>\n",
       "      <td>0.535714</td>\n",
       "      <td>0.534416</td>\n",
       "    </tr>\n",
       "    <tr>\n",
       "      <th>mean_train_score</th>\n",
       "      <td>1</td>\n",
       "      <td>1</td>\n",
       "      <td>1</td>\n",
       "      <td>1</td>\n",
       "      <td>1</td>\n",
       "    </tr>\n",
       "    <tr>\n",
       "      <th>param_lnr__C</th>\n",
       "      <td>10</td>\n",
       "      <td>25</td>\n",
       "      <td>50</td>\n",
       "      <td>75</td>\n",
       "      <td>100</td>\n",
       "    </tr>\n",
       "    <tr>\n",
       "      <th>params</th>\n",
       "      <td>{'lnr__C': 10}</td>\n",
       "      <td>{'lnr__C': 25}</td>\n",
       "      <td>{'lnr__C': 50}</td>\n",
       "      <td>{'lnr__C': 75}</td>\n",
       "      <td>{'lnr__C': 100}</td>\n",
       "    </tr>\n",
       "    <tr>\n",
       "      <th>rank_test_score</th>\n",
       "      <td>1</td>\n",
       "      <td>2</td>\n",
       "      <td>3</td>\n",
       "      <td>4</td>\n",
       "      <td>5</td>\n",
       "    </tr>\n",
       "    <tr>\n",
       "      <th>split0_test_score</th>\n",
       "      <td>0.52987</td>\n",
       "      <td>0.525974</td>\n",
       "      <td>0.524675</td>\n",
       "      <td>0.525974</td>\n",
       "      <td>0.523377</td>\n",
       "    </tr>\n",
       "    <tr>\n",
       "      <th>split0_train_score</th>\n",
       "      <td>1</td>\n",
       "      <td>1</td>\n",
       "      <td>1</td>\n",
       "      <td>1</td>\n",
       "      <td>1</td>\n",
       "    </tr>\n",
       "    <tr>\n",
       "      <th>split1_test_score</th>\n",
       "      <td>0.545455</td>\n",
       "      <td>0.546753</td>\n",
       "      <td>0.548052</td>\n",
       "      <td>0.545455</td>\n",
       "      <td>0.545455</td>\n",
       "    </tr>\n",
       "    <tr>\n",
       "      <th>split1_train_score</th>\n",
       "      <td>1</td>\n",
       "      <td>1</td>\n",
       "      <td>1</td>\n",
       "      <td>1</td>\n",
       "      <td>1</td>\n",
       "    </tr>\n",
       "    <tr>\n",
       "      <th>std_fit_time</th>\n",
       "      <td>0.0122066</td>\n",
       "      <td>0.00920606</td>\n",
       "      <td>0.00565362</td>\n",
       "      <td>0.0108114</td>\n",
       "      <td>0.0129646</td>\n",
       "    </tr>\n",
       "    <tr>\n",
       "      <th>std_score_time</th>\n",
       "      <td>4.42266e-05</td>\n",
       "      <td>3.62396e-05</td>\n",
       "      <td>2.8491e-05</td>\n",
       "      <td>1.0848e-05</td>\n",
       "      <td>1.71661e-05</td>\n",
       "    </tr>\n",
       "    <tr>\n",
       "      <th>std_test_score</th>\n",
       "      <td>0.00779221</td>\n",
       "      <td>0.0103896</td>\n",
       "      <td>0.0116883</td>\n",
       "      <td>0.00974026</td>\n",
       "      <td>0.011039</td>\n",
       "    </tr>\n",
       "    <tr>\n",
       "      <th>std_train_score</th>\n",
       "      <td>0</td>\n",
       "      <td>0</td>\n",
       "      <td>0</td>\n",
       "      <td>0</td>\n",
       "      <td>0</td>\n",
       "    </tr>\n",
       "  </tbody>\n",
       "</table>\n",
       "</div>"
      ],
      "text/plain": [
       "                                 0               1               2  \\\n",
       "mean_fit_time             0.229013        0.223942        0.236809   \n",
       "mean_score_time          0.0014652      0.00144172      0.00145471   \n",
       "mean_test_score           0.537662        0.536364        0.536364   \n",
       "mean_train_score                 1               1               1   \n",
       "param_lnr__C                    10              25              50   \n",
       "params              {'lnr__C': 10}  {'lnr__C': 25}  {'lnr__C': 50}   \n",
       "rank_test_score                  1               2               3   \n",
       "split0_test_score          0.52987        0.525974        0.524675   \n",
       "split0_train_score               1               1               1   \n",
       "split1_test_score         0.545455        0.546753        0.548052   \n",
       "split1_train_score               1               1               1   \n",
       "std_fit_time             0.0122066      0.00920606      0.00565362   \n",
       "std_score_time         4.42266e-05     3.62396e-05      2.8491e-05   \n",
       "std_test_score          0.00779221       0.0103896       0.0116883   \n",
       "std_train_score                  0               0               0   \n",
       "\n",
       "                                 3                4  \n",
       "mean_fit_time             0.254783         0.247419  \n",
       "mean_score_time         0.00142419       0.00141573  \n",
       "mean_test_score           0.535714         0.534416  \n",
       "mean_train_score                 1                1  \n",
       "param_lnr__C                    75              100  \n",
       "params              {'lnr__C': 75}  {'lnr__C': 100}  \n",
       "rank_test_score                  4                5  \n",
       "split0_test_score         0.525974         0.523377  \n",
       "split0_train_score               1                1  \n",
       "split1_test_score         0.545455         0.545455  \n",
       "split1_train_score               1                1  \n",
       "std_fit_time             0.0108114        0.0129646  \n",
       "std_score_time          1.0848e-05      1.71661e-05  \n",
       "std_test_score          0.00974026         0.011039  \n",
       "std_train_score                  0                0  "
      ]
     },
     "execution_count": 25,
     "metadata": {},
     "output_type": "execute_result"
    }
   ],
   "source": [
    "pd.DataFrame(simple2_gs.cv_results_).sort_values(by='rank_test_score').T"
   ]
  },
  {
   "cell_type": "markdown",
   "metadata": {},
   "source": [
    "### Benchmark scores for Linear Regression with high C values"
   ]
  },
  {
   "cell_type": "code",
   "execution_count": 26,
   "metadata": {},
   "outputs": [
    {
     "data": {
      "text/plain": [
       "1.0"
      ]
     },
     "execution_count": 26,
     "metadata": {},
     "output_type": "execute_result"
    }
   ],
   "source": [
    "simple2_gs.score(X_train, y_train)"
   ]
  },
  {
   "cell_type": "code",
   "execution_count": 27,
   "metadata": {},
   "outputs": [
    {
     "data": {
      "text/plain": [
       "0.53766233766233762"
      ]
     },
     "execution_count": 27,
     "metadata": {},
     "output_type": "execute_result"
    }
   ],
   "source": [
    "simple2_gs.best_score_"
   ]
  },
  {
   "cell_type": "markdown",
   "metadata": {},
   "source": [
    "# DECISION TREE\n"
   ]
  },
  {
   "cell_type": "code",
   "execution_count": 30,
   "metadata": {},
   "outputs": [],
   "source": [
    "simple_pipe_2 =  Pipeline([\n",
    "    ('tree', DecisionTreeClassifier())\n",
    "])"
   ]
  },
  {
   "cell_type": "code",
   "execution_count": 31,
   "metadata": {},
   "outputs": [
    {
     "data": {
      "text/plain": [
       "Pipeline(steps=[('tree', DecisionTreeClassifier(class_weight=None, criterion='gini', max_depth=None,\n",
       "            max_features=None, max_leaf_nodes=None,\n",
       "            min_impurity_split=1e-07, min_samples_leaf=1,\n",
       "            min_samples_split=2, min_weight_fraction_leaf=0.0,\n",
       "            presort=False, random_state=None, splitter='best'))])"
      ]
     },
     "execution_count": 31,
     "metadata": {},
     "output_type": "execute_result"
    }
   ],
   "source": [
    "simple_pipe_2.fit(X_train, y_train)"
   ]
  },
  {
   "cell_type": "markdown",
   "metadata": {},
   "source": [
    "### Benchmark scores for Decision Tree "
   ]
  },
  {
   "cell_type": "code",
   "execution_count": 32,
   "metadata": {},
   "outputs": [
    {
     "data": {
      "text/plain": [
       "1.0"
      ]
     },
     "execution_count": 32,
     "metadata": {},
     "output_type": "execute_result"
    }
   ],
   "source": [
    "simple_pipe_2.score(X_train, y_train)"
   ]
  },
  {
   "cell_type": "code",
   "execution_count": 33,
   "metadata": {},
   "outputs": [
    {
     "data": {
      "text/plain": [
       "0.56212121212121213"
      ]
     },
     "execution_count": 33,
     "metadata": {},
     "output_type": "execute_result"
    }
   ],
   "source": [
    "simple_pipe_2.score(X_test, y_test)"
   ]
  },
  {
   "cell_type": "markdown",
   "metadata": {},
   "source": [
    "# KNN\n"
   ]
  },
  {
   "cell_type": "code",
   "execution_count": 36,
   "metadata": {},
   "outputs": [],
   "source": [
    "neigh = KNeighborsClassifier(n_neighbors=3)"
   ]
  },
  {
   "cell_type": "code",
   "execution_count": 37,
   "metadata": {},
   "outputs": [
    {
     "data": {
      "text/plain": [
       "KNeighborsClassifier(algorithm='auto', leaf_size=30, metric='minkowski',\n",
       "           metric_params=None, n_jobs=1, n_neighbors=3, p=2,\n",
       "           weights='uniform')"
      ]
     },
     "execution_count": 37,
     "metadata": {},
     "output_type": "execute_result"
    }
   ],
   "source": [
    "neigh.fit(X_train, y_train) "
   ]
  },
  {
   "cell_type": "code",
   "execution_count": 38,
   "metadata": {},
   "outputs": [
    {
     "data": {
      "text/plain": [
       "array([[ 1.        ,  0.        ],\n",
       "       [ 0.        ,  1.        ],\n",
       "       [ 0.66666667,  0.33333333],\n",
       "       ..., \n",
       "       [ 0.33333333,  0.66666667],\n",
       "       [ 0.66666667,  0.33333333],\n",
       "       [ 0.33333333,  0.66666667]])"
      ]
     },
     "execution_count": 38,
     "metadata": {},
     "output_type": "execute_result"
    }
   ],
   "source": [
    "neigh.predict_proba(X_train)"
   ]
  },
  {
   "cell_type": "markdown",
   "metadata": {},
   "source": [
    "### Benchmark scores for KNN\n"
   ]
  },
  {
   "cell_type": "code",
   "execution_count": 42,
   "metadata": {},
   "outputs": [
    {
     "data": {
      "text/plain": [
       "0.80389610389610389"
      ]
     },
     "execution_count": 42,
     "metadata": {},
     "output_type": "execute_result"
    }
   ],
   "source": [
    "neigh.score(X_train, y_train, sample_weight=None)"
   ]
  },
  {
   "cell_type": "code",
   "execution_count": 43,
   "metadata": {},
   "outputs": [
    {
     "data": {
      "text/plain": [
       "0.58636363636363631"
      ]
     },
     "execution_count": 43,
     "metadata": {},
     "output_type": "execute_result"
    }
   ],
   "source": [
    "neigh.score(X_test, y_test, sample_weight=None)"
   ]
  },
  {
   "cell_type": "markdown",
   "metadata": {},
   "source": [
    "# SVC\n"
   ]
  },
  {
   "cell_type": "code",
   "execution_count": 44,
   "metadata": {},
   "outputs": [],
   "source": [
    "simple_pipe_3 =  Pipeline([\n",
    "    ('svm', svm.SVC())\n",
    "])"
   ]
  },
  {
   "cell_type": "code",
   "execution_count": 45,
   "metadata": {},
   "outputs": [],
   "source": [
    "simple_param_3 = {\n",
    "    'svm__C': [10,25,50,75,100]\n",
    "}"
   ]
  },
  {
   "cell_type": "code",
   "execution_count": 48,
   "metadata": {},
   "outputs": [],
   "source": [
    "simple3_gs = GridSearchCV(simple_pipe_3, param_grid=simple_param_3, cv=2, n_jobs=-1, verbose=1)"
   ]
  },
  {
   "cell_type": "code",
   "execution_count": 49,
   "metadata": {},
   "outputs": [
    {
     "name": "stdout",
     "output_type": "stream",
     "text": [
      "Fitting 2 folds for each of 5 candidates, totalling 10 fits\n"
     ]
    },
    {
     "name": "stderr",
     "output_type": "stream",
     "text": [
      "[Parallel(n_jobs=-1)]: Done  10 out of  10 | elapsed:    3.9s finished\n"
     ]
    },
    {
     "data": {
      "text/plain": [
       "GridSearchCV(cv=2, error_score='raise',\n",
       "       estimator=Pipeline(steps=[('svm', SVC(C=1.0, cache_size=200, class_weight=None, coef0=0.0,\n",
       "  decision_function_shape=None, degree=3, gamma='auto', kernel='rbf',\n",
       "  max_iter=-1, probability=False, random_state=None, shrinking=True,\n",
       "  tol=0.001, verbose=False))]),\n",
       "       fit_params={}, iid=True, n_jobs=-1,\n",
       "       param_grid={'svm__C': [10, 25, 50, 75, 100]},\n",
       "       pre_dispatch='2*n_jobs', refit=True, return_train_score=True,\n",
       "       scoring=None, verbose=1)"
      ]
     },
     "execution_count": 49,
     "metadata": {},
     "output_type": "execute_result"
    }
   ],
   "source": [
    "simple3_gs.fit(X_test, y_test) "
   ]
  },
  {
   "cell_type": "markdown",
   "metadata": {},
   "source": [
    "### Benchmark scores for SVC with high C values"
   ]
  },
  {
   "cell_type": "code",
   "execution_count": 50,
   "metadata": {},
   "outputs": [
    {
     "data": {
      "text/plain": [
       "1.0"
      ]
     },
     "execution_count": 50,
     "metadata": {},
     "output_type": "execute_result"
    }
   ],
   "source": [
    "simple3_gs.score(X_test, y_test) "
   ]
  },
  {
   "cell_type": "code",
   "execution_count": 51,
   "metadata": {},
   "outputs": [
    {
     "data": {
      "text/plain": [
       "0.55454545454545456"
      ]
     },
     "execution_count": 51,
     "metadata": {},
     "output_type": "execute_result"
    }
   ],
   "source": [
    "simple3_gs.best_score_"
   ]
  },
  {
   "cell_type": "code",
   "execution_count": 52,
   "metadata": {},
   "outputs": [
    {
     "data": {
      "text/html": [
       "<div>\n",
       "<table border=\"1\" class=\"dataframe\">\n",
       "  <thead>\n",
       "    <tr style=\"text-align: right;\">\n",
       "      <th></th>\n",
       "      <th>0</th>\n",
       "      <th>1</th>\n",
       "      <th>2</th>\n",
       "      <th>3</th>\n",
       "      <th>4</th>\n",
       "    </tr>\n",
       "  </thead>\n",
       "  <tbody>\n",
       "    <tr>\n",
       "      <th>mean_fit_time</th>\n",
       "      <td>0.135491</td>\n",
       "      <td>0.134297</td>\n",
       "      <td>0.135167</td>\n",
       "      <td>0.132544</td>\n",
       "      <td>0.132144</td>\n",
       "    </tr>\n",
       "    <tr>\n",
       "      <th>mean_score_time</th>\n",
       "      <td>0.130336</td>\n",
       "      <td>0.128884</td>\n",
       "      <td>0.126179</td>\n",
       "      <td>0.127201</td>\n",
       "      <td>0.125927</td>\n",
       "    </tr>\n",
       "    <tr>\n",
       "      <th>mean_test_score</th>\n",
       "      <td>0.554545</td>\n",
       "      <td>0.554545</td>\n",
       "      <td>0.554545</td>\n",
       "      <td>0.554545</td>\n",
       "      <td>0.554545</td>\n",
       "    </tr>\n",
       "    <tr>\n",
       "      <th>mean_train_score</th>\n",
       "      <td>1</td>\n",
       "      <td>1</td>\n",
       "      <td>1</td>\n",
       "      <td>1</td>\n",
       "      <td>1</td>\n",
       "    </tr>\n",
       "    <tr>\n",
       "      <th>param_svm__C</th>\n",
       "      <td>10</td>\n",
       "      <td>25</td>\n",
       "      <td>50</td>\n",
       "      <td>75</td>\n",
       "      <td>100</td>\n",
       "    </tr>\n",
       "    <tr>\n",
       "      <th>params</th>\n",
       "      <td>{'svm__C': 10}</td>\n",
       "      <td>{'svm__C': 25}</td>\n",
       "      <td>{'svm__C': 50}</td>\n",
       "      <td>{'svm__C': 75}</td>\n",
       "      <td>{'svm__C': 100}</td>\n",
       "    </tr>\n",
       "    <tr>\n",
       "      <th>rank_test_score</th>\n",
       "      <td>1</td>\n",
       "      <td>1</td>\n",
       "      <td>1</td>\n",
       "      <td>1</td>\n",
       "      <td>1</td>\n",
       "    </tr>\n",
       "    <tr>\n",
       "      <th>split0_test_score</th>\n",
       "      <td>0.548485</td>\n",
       "      <td>0.548485</td>\n",
       "      <td>0.548485</td>\n",
       "      <td>0.548485</td>\n",
       "      <td>0.548485</td>\n",
       "    </tr>\n",
       "    <tr>\n",
       "      <th>split0_train_score</th>\n",
       "      <td>1</td>\n",
       "      <td>1</td>\n",
       "      <td>1</td>\n",
       "      <td>1</td>\n",
       "      <td>1</td>\n",
       "    </tr>\n",
       "    <tr>\n",
       "      <th>split1_test_score</th>\n",
       "      <td>0.560606</td>\n",
       "      <td>0.560606</td>\n",
       "      <td>0.560606</td>\n",
       "      <td>0.560606</td>\n",
       "      <td>0.560606</td>\n",
       "    </tr>\n",
       "    <tr>\n",
       "      <th>split1_train_score</th>\n",
       "      <td>1</td>\n",
       "      <td>1</td>\n",
       "      <td>1</td>\n",
       "      <td>1</td>\n",
       "      <td>1</td>\n",
       "    </tr>\n",
       "    <tr>\n",
       "      <th>std_fit_time</th>\n",
       "      <td>0.000576019</td>\n",
       "      <td>0.00034976</td>\n",
       "      <td>0.00120246</td>\n",
       "      <td>0.000285029</td>\n",
       "      <td>0.00121689</td>\n",
       "    </tr>\n",
       "    <tr>\n",
       "      <th>std_score_time</th>\n",
       "      <td>0.00114834</td>\n",
       "      <td>6.73532e-05</td>\n",
       "      <td>0.00123549</td>\n",
       "      <td>0.00135815</td>\n",
       "      <td>0.00113881</td>\n",
       "    </tr>\n",
       "    <tr>\n",
       "      <th>std_test_score</th>\n",
       "      <td>0.00606061</td>\n",
       "      <td>0.00606061</td>\n",
       "      <td>0.00606061</td>\n",
       "      <td>0.00606061</td>\n",
       "      <td>0.00606061</td>\n",
       "    </tr>\n",
       "    <tr>\n",
       "      <th>std_train_score</th>\n",
       "      <td>0</td>\n",
       "      <td>0</td>\n",
       "      <td>0</td>\n",
       "      <td>0</td>\n",
       "      <td>0</td>\n",
       "    </tr>\n",
       "  </tbody>\n",
       "</table>\n",
       "</div>"
      ],
      "text/plain": [
       "                                 0               1               2  \\\n",
       "mean_fit_time             0.135491        0.134297        0.135167   \n",
       "mean_score_time           0.130336        0.128884        0.126179   \n",
       "mean_test_score           0.554545        0.554545        0.554545   \n",
       "mean_train_score                 1               1               1   \n",
       "param_svm__C                    10              25              50   \n",
       "params              {'svm__C': 10}  {'svm__C': 25}  {'svm__C': 50}   \n",
       "rank_test_score                  1               1               1   \n",
       "split0_test_score         0.548485        0.548485        0.548485   \n",
       "split0_train_score               1               1               1   \n",
       "split1_test_score         0.560606        0.560606        0.560606   \n",
       "split1_train_score               1               1               1   \n",
       "std_fit_time           0.000576019      0.00034976      0.00120246   \n",
       "std_score_time          0.00114834     6.73532e-05      0.00123549   \n",
       "std_test_score          0.00606061      0.00606061      0.00606061   \n",
       "std_train_score                  0               0               0   \n",
       "\n",
       "                                 3                4  \n",
       "mean_fit_time             0.132544         0.132144  \n",
       "mean_score_time           0.127201         0.125927  \n",
       "mean_test_score           0.554545         0.554545  \n",
       "mean_train_score                 1                1  \n",
       "param_svm__C                    75              100  \n",
       "params              {'svm__C': 75}  {'svm__C': 100}  \n",
       "rank_test_score                  1                1  \n",
       "split0_test_score         0.548485         0.548485  \n",
       "split0_train_score               1                1  \n",
       "split1_test_score         0.560606         0.560606  \n",
       "split1_train_score               1                1  \n",
       "std_fit_time           0.000285029       0.00121689  \n",
       "std_score_time          0.00135815       0.00113881  \n",
       "std_test_score          0.00606061       0.00606061  \n",
       "std_train_score                  0                0  "
      ]
     },
     "execution_count": 52,
     "metadata": {},
     "output_type": "execute_result"
    }
   ],
   "source": [
    "pd.DataFrame(simple3_gs.cv_results_).sort_values(by='rank_test_score').T"
   ]
  },
  {
   "cell_type": "markdown",
   "metadata": {},
   "source": [
    "### SECOND BATCH OF 2200\n"
   ]
  },
  {
   "cell_type": "code",
   "execution_count": 54,
   "metadata": {},
   "outputs": [],
   "source": [
    "X_2 = pd.read_pickle('./data/second_batch_X.p')"
   ]
  },
  {
   "cell_type": "code",
   "execution_count": 55,
   "metadata": {},
   "outputs": [],
   "source": [
    "y_2 = pd.read_pickle('./data/second_batch_labels.p')"
   ]
  },
  {
   "cell_type": "code",
   "execution_count": 56,
   "metadata": {},
   "outputs": [
    {
     "data": {
      "text/html": [
       "<div>\n",
       "<table border=\"1\" class=\"dataframe\">\n",
       "  <thead>\n",
       "    <tr style=\"text-align: right;\">\n",
       "      <th></th>\n",
       "      <th>feat_000</th>\n",
       "      <th>feat_001</th>\n",
       "      <th>feat_002</th>\n",
       "      <th>feat_003</th>\n",
       "      <th>feat_004</th>\n",
       "      <th>feat_005</th>\n",
       "      <th>feat_006</th>\n",
       "      <th>feat_007</th>\n",
       "      <th>feat_008</th>\n",
       "      <th>feat_009</th>\n",
       "      <th>...</th>\n",
       "      <th>feat_990</th>\n",
       "      <th>feat_991</th>\n",
       "      <th>feat_992</th>\n",
       "      <th>feat_993</th>\n",
       "      <th>feat_994</th>\n",
       "      <th>feat_995</th>\n",
       "      <th>feat_996</th>\n",
       "      <th>feat_997</th>\n",
       "      <th>feat_998</th>\n",
       "      <th>feat_999</th>\n",
       "    </tr>\n",
       "    <tr>\n",
       "      <th>_id</th>\n",
       "      <th></th>\n",
       "      <th></th>\n",
       "      <th></th>\n",
       "      <th></th>\n",
       "      <th></th>\n",
       "      <th></th>\n",
       "      <th></th>\n",
       "      <th></th>\n",
       "      <th></th>\n",
       "      <th></th>\n",
       "      <th></th>\n",
       "      <th></th>\n",
       "      <th></th>\n",
       "      <th></th>\n",
       "      <th></th>\n",
       "      <th></th>\n",
       "      <th></th>\n",
       "      <th></th>\n",
       "      <th></th>\n",
       "      <th></th>\n",
       "      <th></th>\n",
       "    </tr>\n",
       "  </thead>\n",
       "  <tbody>\n",
       "    <tr>\n",
       "      <th>58633</th>\n",
       "      <td>-0.414192</td>\n",
       "      <td>0.556678</td>\n",
       "      <td>-0.048062</td>\n",
       "      <td>-1.093210</td>\n",
       "      <td>0.326690</td>\n",
       "      <td>1.181827</td>\n",
       "      <td>1.322816</td>\n",
       "      <td>0.355778</td>\n",
       "      <td>-0.820547</td>\n",
       "      <td>-0.612402</td>\n",
       "      <td>...</td>\n",
       "      <td>1.014297</td>\n",
       "      <td>0.414293</td>\n",
       "      <td>0.320118</td>\n",
       "      <td>0.331135</td>\n",
       "      <td>0.998828</td>\n",
       "      <td>0.653802</td>\n",
       "      <td>-0.870826</td>\n",
       "      <td>-0.094518</td>\n",
       "      <td>0.261509</td>\n",
       "      <td>-0.609016</td>\n",
       "    </tr>\n",
       "    <tr>\n",
       "      <th>121974</th>\n",
       "      <td>0.909779</td>\n",
       "      <td>-0.117772</td>\n",
       "      <td>-1.633679</td>\n",
       "      <td>-0.365221</td>\n",
       "      <td>-1.126885</td>\n",
       "      <td>0.884262</td>\n",
       "      <td>-0.406014</td>\n",
       "      <td>-0.577241</td>\n",
       "      <td>0.543661</td>\n",
       "      <td>0.020514</td>\n",
       "      <td>...</td>\n",
       "      <td>-1.075370</td>\n",
       "      <td>-1.119594</td>\n",
       "      <td>0.336924</td>\n",
       "      <td>1.174172</td>\n",
       "      <td>-0.099440</td>\n",
       "      <td>0.326672</td>\n",
       "      <td>1.326339</td>\n",
       "      <td>0.786394</td>\n",
       "      <td>-1.855981</td>\n",
       "      <td>-0.794993</td>\n",
       "    </tr>\n",
       "    <tr>\n",
       "      <th>164272</th>\n",
       "      <td>-0.186508</td>\n",
       "      <td>0.138429</td>\n",
       "      <td>-0.732191</td>\n",
       "      <td>0.776423</td>\n",
       "      <td>-0.560702</td>\n",
       "      <td>-0.946012</td>\n",
       "      <td>-0.043432</td>\n",
       "      <td>-0.177078</td>\n",
       "      <td>-0.240173</td>\n",
       "      <td>-1.023106</td>\n",
       "      <td>...</td>\n",
       "      <td>0.454122</td>\n",
       "      <td>-0.171164</td>\n",
       "      <td>1.632371</td>\n",
       "      <td>-0.079140</td>\n",
       "      <td>-0.287585</td>\n",
       "      <td>-0.052406</td>\n",
       "      <td>-0.702572</td>\n",
       "      <td>-0.084256</td>\n",
       "      <td>0.171039</td>\n",
       "      <td>1.359428</td>\n",
       "    </tr>\n",
       "    <tr>\n",
       "      <th>142434</th>\n",
       "      <td>0.487130</td>\n",
       "      <td>0.798981</td>\n",
       "      <td>-0.742441</td>\n",
       "      <td>-1.094174</td>\n",
       "      <td>-1.566471</td>\n",
       "      <td>-0.211503</td>\n",
       "      <td>0.354208</td>\n",
       "      <td>0.429679</td>\n",
       "      <td>-0.249969</td>\n",
       "      <td>0.905306</td>\n",
       "      <td>...</td>\n",
       "      <td>0.975815</td>\n",
       "      <td>0.294657</td>\n",
       "      <td>-1.327187</td>\n",
       "      <td>-0.474763</td>\n",
       "      <td>1.495184</td>\n",
       "      <td>-0.055151</td>\n",
       "      <td>0.865955</td>\n",
       "      <td>-0.522299</td>\n",
       "      <td>-0.010232</td>\n",
       "      <td>-0.287562</td>\n",
       "    </tr>\n",
       "    <tr>\n",
       "      <th>35139</th>\n",
       "      <td>1.304757</td>\n",
       "      <td>0.638154</td>\n",
       "      <td>1.263587</td>\n",
       "      <td>-0.781058</td>\n",
       "      <td>0.804523</td>\n",
       "      <td>0.949374</td>\n",
       "      <td>0.722360</td>\n",
       "      <td>-0.147807</td>\n",
       "      <td>0.559629</td>\n",
       "      <td>-1.149253</td>\n",
       "      <td>...</td>\n",
       "      <td>0.022418</td>\n",
       "      <td>-1.448466</td>\n",
       "      <td>0.124061</td>\n",
       "      <td>1.144825</td>\n",
       "      <td>-0.225140</td>\n",
       "      <td>-0.291749</td>\n",
       "      <td>0.508428</td>\n",
       "      <td>0.630435</td>\n",
       "      <td>-0.807956</td>\n",
       "      <td>0.567494</td>\n",
       "    </tr>\n",
       "  </tbody>\n",
       "</table>\n",
       "<p>5 rows × 1000 columns</p>\n",
       "</div>"
      ],
      "text/plain": [
       "        feat_000  feat_001  feat_002  feat_003  feat_004  feat_005  feat_006  \\\n",
       "_id                                                                            \n",
       "58633  -0.414192  0.556678 -0.048062 -1.093210  0.326690  1.181827  1.322816   \n",
       "121974  0.909779 -0.117772 -1.633679 -0.365221 -1.126885  0.884262 -0.406014   \n",
       "164272 -0.186508  0.138429 -0.732191  0.776423 -0.560702 -0.946012 -0.043432   \n",
       "142434  0.487130  0.798981 -0.742441 -1.094174 -1.566471 -0.211503  0.354208   \n",
       "35139   1.304757  0.638154  1.263587 -0.781058  0.804523  0.949374  0.722360   \n",
       "\n",
       "        feat_007  feat_008  feat_009    ...     feat_990  feat_991  feat_992  \\\n",
       "_id                                     ...                                    \n",
       "58633   0.355778 -0.820547 -0.612402    ...     1.014297  0.414293  0.320118   \n",
       "121974 -0.577241  0.543661  0.020514    ...    -1.075370 -1.119594  0.336924   \n",
       "164272 -0.177078 -0.240173 -1.023106    ...     0.454122 -0.171164  1.632371   \n",
       "142434  0.429679 -0.249969  0.905306    ...     0.975815  0.294657 -1.327187   \n",
       "35139  -0.147807  0.559629 -1.149253    ...     0.022418 -1.448466  0.124061   \n",
       "\n",
       "        feat_993  feat_994  feat_995  feat_996  feat_997  feat_998  feat_999  \n",
       "_id                                                                           \n",
       "58633   0.331135  0.998828  0.653802 -0.870826 -0.094518  0.261509 -0.609016  \n",
       "121974  1.174172 -0.099440  0.326672  1.326339  0.786394 -1.855981 -0.794993  \n",
       "164272 -0.079140 -0.287585 -0.052406 -0.702572 -0.084256  0.171039  1.359428  \n",
       "142434 -0.474763  1.495184 -0.055151  0.865955 -0.522299 -0.010232 -0.287562  \n",
       "35139   1.144825 -0.225140 -0.291749  0.508428  0.630435 -0.807956  0.567494  \n",
       "\n",
       "[5 rows x 1000 columns]"
      ]
     },
     "execution_count": 56,
     "metadata": {},
     "output_type": "execute_result"
    }
   ],
   "source": [
    "X_2.head()"
   ]
  },
  {
   "cell_type": "code",
   "execution_count": 57,
   "metadata": {},
   "outputs": [
    {
     "data": {
      "text/plain": [
       "_id\n",
       "58633     1\n",
       "121974    0\n",
       "164272    1\n",
       "142434    1\n",
       "35139     1\n",
       "Name: target, dtype: int64"
      ]
     },
     "execution_count": 57,
     "metadata": {},
     "output_type": "execute_result"
    }
   ],
   "source": [
    "y_2.head()"
   ]
  },
  {
   "cell_type": "code",
   "execution_count": 58,
   "metadata": {},
   "outputs": [
    {
     "data": {
      "text/plain": [
       "((2200, 1000), (2200,))"
      ]
     },
     "execution_count": 58,
     "metadata": {},
     "output_type": "execute_result"
    }
   ],
   "source": [
    "X_2.shape, y_2.shape"
   ]
  },
  {
   "cell_type": "markdown",
   "metadata": {},
   "source": [
    "## Preparing train, test split for:\n",
    "\n",
    "- logistic regression\n",
    "- decision tree\n",
    "- k nearest neighbors\n",
    "- support vector classifier\n",
    "\n",
    "\"in order to do this, you will need to set a high C value in order to perform minimal regularization, in the case of logistic regression and support vector classifier.\""
   ]
  },
  {
   "cell_type": "code",
   "execution_count": 59,
   "metadata": {},
   "outputs": [],
   "source": [
    "X_train, X_test, y_train, y_test = train_test_split(X_2,\n",
    "                                                    y_2,\n",
    "                                                    test_size = .3,\n",
    "                                                    )"
   ]
  },
  {
   "cell_type": "code",
   "execution_count": 60,
   "metadata": {},
   "outputs": [
    {
     "data": {
      "text/plain": [
       "((1540, 1000), (1540,))"
      ]
     },
     "execution_count": 60,
     "metadata": {},
     "output_type": "execute_result"
    }
   ],
   "source": [
    "X_train.shape, y_train.shape"
   ]
  },
  {
   "cell_type": "code",
   "execution_count": 61,
   "metadata": {},
   "outputs": [],
   "source": [
    "simple_pipe_1 = Pipeline([\n",
    "    ('lnr',  LogisticRegression())\n",
    "])"
   ]
  },
  {
   "cell_type": "code",
   "execution_count": 62,
   "metadata": {},
   "outputs": [],
   "source": [
    "simple_param_1 = {\n",
    "    'lnr__C': [10,25,50,75,100]\n",
    "}"
   ]
  },
  {
   "cell_type": "code",
   "execution_count": 63,
   "metadata": {},
   "outputs": [],
   "source": [
    "simple2_gs = GridSearchCV(simple_pipe_1, param_grid=simple_param_1, cv=2, n_jobs=-1, verbose=1)"
   ]
  },
  {
   "cell_type": "code",
   "execution_count": 64,
   "metadata": {},
   "outputs": [
    {
     "name": "stdout",
     "output_type": "stream",
     "text": [
      "Fitting 2 folds for each of 5 candidates, totalling 10 fits\n"
     ]
    },
    {
     "name": "stderr",
     "output_type": "stream",
     "text": [
      "[Parallel(n_jobs=-1)]: Done  10 out of  10 | elapsed:    2.6s finished\n"
     ]
    },
    {
     "data": {
      "text/plain": [
       "GridSearchCV(cv=2, error_score='raise',\n",
       "       estimator=Pipeline(steps=[('lnr', LogisticRegression(C=1.0, class_weight=None, dual=False, fit_intercept=True,\n",
       "          intercept_scaling=1, max_iter=100, multi_class='ovr', n_jobs=1,\n",
       "          penalty='l2', random_state=None, solver='liblinear', tol=0.0001,\n",
       "          verbose=0, warm_start=False))]),\n",
       "       fit_params={}, iid=True, n_jobs=-1,\n",
       "       param_grid={'lnr__C': [10, 25, 50, 75, 100]},\n",
       "       pre_dispatch='2*n_jobs', refit=True, return_train_score=True,\n",
       "       scoring=None, verbose=1)"
      ]
     },
     "execution_count": 64,
     "metadata": {},
     "output_type": "execute_result"
    }
   ],
   "source": [
    "simple2_gs.fit(X_train, y_train)"
   ]
  },
  {
   "cell_type": "code",
   "execution_count": 65,
   "metadata": {},
   "outputs": [
    {
     "data": {
      "text/html": [
       "<div>\n",
       "<table border=\"1\" class=\"dataframe\">\n",
       "  <thead>\n",
       "    <tr style=\"text-align: right;\">\n",
       "      <th></th>\n",
       "      <th>1</th>\n",
       "      <th>0</th>\n",
       "      <th>3</th>\n",
       "      <th>4</th>\n",
       "      <th>2</th>\n",
       "    </tr>\n",
       "  </thead>\n",
       "  <tbody>\n",
       "    <tr>\n",
       "      <th>mean_fit_time</th>\n",
       "      <td>0.241772</td>\n",
       "      <td>0.244029</td>\n",
       "      <td>0.268722</td>\n",
       "      <td>0.267987</td>\n",
       "      <td>0.25733</td>\n",
       "    </tr>\n",
       "    <tr>\n",
       "      <th>mean_score_time</th>\n",
       "      <td>0.00146413</td>\n",
       "      <td>0.00145745</td>\n",
       "      <td>0.00145447</td>\n",
       "      <td>0.00145257</td>\n",
       "      <td>0.00145745</td>\n",
       "    </tr>\n",
       "    <tr>\n",
       "      <th>mean_test_score</th>\n",
       "      <td>0.541558</td>\n",
       "      <td>0.53961</td>\n",
       "      <td>0.53961</td>\n",
       "      <td>0.538961</td>\n",
       "      <td>0.537662</td>\n",
       "    </tr>\n",
       "    <tr>\n",
       "      <th>mean_train_score</th>\n",
       "      <td>1</td>\n",
       "      <td>1</td>\n",
       "      <td>1</td>\n",
       "      <td>1</td>\n",
       "      <td>1</td>\n",
       "    </tr>\n",
       "    <tr>\n",
       "      <th>param_lnr__C</th>\n",
       "      <td>25</td>\n",
       "      <td>10</td>\n",
       "      <td>75</td>\n",
       "      <td>100</td>\n",
       "      <td>50</td>\n",
       "    </tr>\n",
       "    <tr>\n",
       "      <th>params</th>\n",
       "      <td>{'lnr__C': 25}</td>\n",
       "      <td>{'lnr__C': 10}</td>\n",
       "      <td>{'lnr__C': 75}</td>\n",
       "      <td>{'lnr__C': 100}</td>\n",
       "      <td>{'lnr__C': 50}</td>\n",
       "    </tr>\n",
       "    <tr>\n",
       "      <th>rank_test_score</th>\n",
       "      <td>1</td>\n",
       "      <td>2</td>\n",
       "      <td>2</td>\n",
       "      <td>4</td>\n",
       "      <td>5</td>\n",
       "    </tr>\n",
       "    <tr>\n",
       "      <th>split0_test_score</th>\n",
       "      <td>0.564202</td>\n",
       "      <td>0.560311</td>\n",
       "      <td>0.564202</td>\n",
       "      <td>0.562905</td>\n",
       "      <td>0.559014</td>\n",
       "    </tr>\n",
       "    <tr>\n",
       "      <th>split0_train_score</th>\n",
       "      <td>1</td>\n",
       "      <td>1</td>\n",
       "      <td>1</td>\n",
       "      <td>1</td>\n",
       "      <td>1</td>\n",
       "    </tr>\n",
       "    <tr>\n",
       "      <th>split1_test_score</th>\n",
       "      <td>0.518856</td>\n",
       "      <td>0.518856</td>\n",
       "      <td>0.514954</td>\n",
       "      <td>0.514954</td>\n",
       "      <td>0.516255</td>\n",
       "    </tr>\n",
       "    <tr>\n",
       "      <th>split1_train_score</th>\n",
       "      <td>1</td>\n",
       "      <td>1</td>\n",
       "      <td>1</td>\n",
       "      <td>1</td>\n",
       "      <td>1</td>\n",
       "    </tr>\n",
       "    <tr>\n",
       "      <th>std_fit_time</th>\n",
       "      <td>0.0268171</td>\n",
       "      <td>0.0178728</td>\n",
       "      <td>0.0285397</td>\n",
       "      <td>0.0312359</td>\n",
       "      <td>0.0433464</td>\n",
       "    </tr>\n",
       "    <tr>\n",
       "      <th>std_score_time</th>\n",
       "      <td>2.52724e-05</td>\n",
       "      <td>3.17097e-05</td>\n",
       "      <td>3.27826e-05</td>\n",
       "      <td>2.30074e-05</td>\n",
       "      <td>6.67572e-06</td>\n",
       "    </tr>\n",
       "    <tr>\n",
       "      <th>std_test_score</th>\n",
       "      <td>0.0226733</td>\n",
       "      <td>0.0207278</td>\n",
       "      <td>0.0246239</td>\n",
       "      <td>0.0239754</td>\n",
       "      <td>0.0213797</td>\n",
       "    </tr>\n",
       "    <tr>\n",
       "      <th>std_train_score</th>\n",
       "      <td>0</td>\n",
       "      <td>0</td>\n",
       "      <td>0</td>\n",
       "      <td>0</td>\n",
       "      <td>0</td>\n",
       "    </tr>\n",
       "  </tbody>\n",
       "</table>\n",
       "</div>"
      ],
      "text/plain": [
       "                                 1               0               3  \\\n",
       "mean_fit_time             0.241772        0.244029        0.268722   \n",
       "mean_score_time         0.00146413      0.00145745      0.00145447   \n",
       "mean_test_score           0.541558         0.53961         0.53961   \n",
       "mean_train_score                 1               1               1   \n",
       "param_lnr__C                    25              10              75   \n",
       "params              {'lnr__C': 25}  {'lnr__C': 10}  {'lnr__C': 75}   \n",
       "rank_test_score                  1               2               2   \n",
       "split0_test_score         0.564202        0.560311        0.564202   \n",
       "split0_train_score               1               1               1   \n",
       "split1_test_score         0.518856        0.518856        0.514954   \n",
       "split1_train_score               1               1               1   \n",
       "std_fit_time             0.0268171       0.0178728       0.0285397   \n",
       "std_score_time         2.52724e-05     3.17097e-05     3.27826e-05   \n",
       "std_test_score           0.0226733       0.0207278       0.0246239   \n",
       "std_train_score                  0               0               0   \n",
       "\n",
       "                                  4               2  \n",
       "mean_fit_time              0.267987         0.25733  \n",
       "mean_score_time          0.00145257      0.00145745  \n",
       "mean_test_score            0.538961        0.537662  \n",
       "mean_train_score                  1               1  \n",
       "param_lnr__C                    100              50  \n",
       "params              {'lnr__C': 100}  {'lnr__C': 50}  \n",
       "rank_test_score                   4               5  \n",
       "split0_test_score          0.562905        0.559014  \n",
       "split0_train_score                1               1  \n",
       "split1_test_score          0.514954        0.516255  \n",
       "split1_train_score                1               1  \n",
       "std_fit_time              0.0312359       0.0433464  \n",
       "std_score_time          2.30074e-05     6.67572e-06  \n",
       "std_test_score            0.0239754       0.0213797  \n",
       "std_train_score                   0               0  "
      ]
     },
     "execution_count": 65,
     "metadata": {},
     "output_type": "execute_result"
    }
   ],
   "source": [
    "pd.DataFrame(simple2_gs.cv_results_).sort_values(by='rank_test_score').T"
   ]
  },
  {
   "cell_type": "code",
   "execution_count": 66,
   "metadata": {},
   "outputs": [
    {
     "data": {
      "text/plain": [
       "1.0"
      ]
     },
     "execution_count": 66,
     "metadata": {},
     "output_type": "execute_result"
    }
   ],
   "source": [
    "simple2_gs.score(X_train, y_train)"
   ]
  },
  {
   "cell_type": "code",
   "execution_count": 67,
   "metadata": {},
   "outputs": [
    {
     "data": {
      "text/plain": [
       "0.54155844155844157"
      ]
     },
     "execution_count": 67,
     "metadata": {},
     "output_type": "execute_result"
    }
   ],
   "source": [
    "simple2_gs.best_score_"
   ]
  },
  {
   "cell_type": "markdown",
   "metadata": {},
   "source": [
    "# DECISION TREE\n"
   ]
  },
  {
   "cell_type": "code",
   "execution_count": 68,
   "metadata": {},
   "outputs": [],
   "source": [
    "simple_pipe_2 =  Pipeline([\n",
    "    ('tree', DecisionTreeClassifier())\n",
    "])"
   ]
  },
  {
   "cell_type": "code",
   "execution_count": 69,
   "metadata": {},
   "outputs": [
    {
     "data": {
      "text/plain": [
       "Pipeline(steps=[('tree', DecisionTreeClassifier(class_weight=None, criterion='gini', max_depth=None,\n",
       "            max_features=None, max_leaf_nodes=None,\n",
       "            min_impurity_split=1e-07, min_samples_leaf=1,\n",
       "            min_samples_split=2, min_weight_fraction_leaf=0.0,\n",
       "            presort=False, random_state=None, splitter='best'))])"
      ]
     },
     "execution_count": 69,
     "metadata": {},
     "output_type": "execute_result"
    }
   ],
   "source": [
    "simple_pipe_2.fit(X_train, y_train)"
   ]
  },
  {
   "cell_type": "markdown",
   "metadata": {},
   "source": [
    "### Benchmark scores for Decision Tree "
   ]
  },
  {
   "cell_type": "code",
   "execution_count": 70,
   "metadata": {},
   "outputs": [
    {
     "data": {
      "text/plain": [
       "1.0"
      ]
     },
     "execution_count": 70,
     "metadata": {},
     "output_type": "execute_result"
    }
   ],
   "source": [
    "simple_pipe_2.score(X_train, y_train)"
   ]
  },
  {
   "cell_type": "code",
   "execution_count": 71,
   "metadata": {},
   "outputs": [
    {
     "data": {
      "text/plain": [
       "0.59999999999999998"
      ]
     },
     "execution_count": 71,
     "metadata": {},
     "output_type": "execute_result"
    }
   ],
   "source": [
    "simple_pipe_2.score(X_test, y_test)"
   ]
  },
  {
   "cell_type": "markdown",
   "metadata": {},
   "source": [
    "# KNN\n"
   ]
  },
  {
   "cell_type": "code",
   "execution_count": 72,
   "metadata": {},
   "outputs": [],
   "source": [
    "neigh = KNeighborsClassifier(n_neighbors=3)"
   ]
  },
  {
   "cell_type": "code",
   "execution_count": 73,
   "metadata": {},
   "outputs": [
    {
     "data": {
      "text/plain": [
       "KNeighborsClassifier(algorithm='auto', leaf_size=30, metric='minkowski',\n",
       "           metric_params=None, n_jobs=1, n_neighbors=3, p=2,\n",
       "           weights='uniform')"
      ]
     },
     "execution_count": 73,
     "metadata": {},
     "output_type": "execute_result"
    }
   ],
   "source": [
    "neigh.fit(X_train, y_train) "
   ]
  },
  {
   "cell_type": "code",
   "execution_count": 74,
   "metadata": {},
   "outputs": [
    {
     "data": {
      "text/plain": [
       "array([[ 0.66666667,  0.33333333],\n",
       "       [ 0.66666667,  0.33333333],\n",
       "       [ 0.66666667,  0.33333333],\n",
       "       ..., \n",
       "       [ 0.33333333,  0.66666667],\n",
       "       [ 0.66666667,  0.33333333],\n",
       "       [ 0.33333333,  0.66666667]])"
      ]
     },
     "execution_count": 74,
     "metadata": {},
     "output_type": "execute_result"
    }
   ],
   "source": [
    "neigh.predict_proba(X_train)"
   ]
  },
  {
   "cell_type": "markdown",
   "metadata": {},
   "source": [
    "### Benchmark scores for KNN\n"
   ]
  },
  {
   "cell_type": "code",
   "execution_count": 75,
   "metadata": {},
   "outputs": [
    {
     "data": {
      "text/plain": [
       "0.80194805194805197"
      ]
     },
     "execution_count": 75,
     "metadata": {},
     "output_type": "execute_result"
    }
   ],
   "source": [
    "neigh.score(X_train, y_train, sample_weight=None)"
   ]
  },
  {
   "cell_type": "code",
   "execution_count": 76,
   "metadata": {},
   "outputs": [
    {
     "data": {
      "text/plain": [
       "0.58939393939393936"
      ]
     },
     "execution_count": 76,
     "metadata": {},
     "output_type": "execute_result"
    }
   ],
   "source": [
    "neigh.score(X_test, y_test, sample_weight=None)"
   ]
  },
  {
   "cell_type": "markdown",
   "metadata": {},
   "source": [
    "# SVC\n"
   ]
  },
  {
   "cell_type": "code",
   "execution_count": 77,
   "metadata": {},
   "outputs": [],
   "source": [
    "simple_pipe_3 =  Pipeline([\n",
    "    ('svm', svm.SVC())\n",
    "])"
   ]
  },
  {
   "cell_type": "code",
   "execution_count": 78,
   "metadata": {},
   "outputs": [],
   "source": [
    "simple_param_3 = {\n",
    "    'svm__C': [10,25,50,75,100]\n",
    "}"
   ]
  },
  {
   "cell_type": "code",
   "execution_count": 79,
   "metadata": {},
   "outputs": [],
   "source": [
    "simple3_gs = GridSearchCV(simple_pipe_3, param_grid=simple_param_3, cv=2, n_jobs=-1, verbose=1)"
   ]
  },
  {
   "cell_type": "code",
   "execution_count": 80,
   "metadata": {},
   "outputs": [
    {
     "name": "stdout",
     "output_type": "stream",
     "text": [
      "Fitting 2 folds for each of 5 candidates, totalling 10 fits\n"
     ]
    },
    {
     "name": "stderr",
     "output_type": "stream",
     "text": [
      "[Parallel(n_jobs=-1)]: Done  10 out of  10 | elapsed:    4.0s finished\n"
     ]
    },
    {
     "data": {
      "text/plain": [
       "GridSearchCV(cv=2, error_score='raise',\n",
       "       estimator=Pipeline(steps=[('svm', SVC(C=1.0, cache_size=200, class_weight=None, coef0=0.0,\n",
       "  decision_function_shape=None, degree=3, gamma='auto', kernel='rbf',\n",
       "  max_iter=-1, probability=False, random_state=None, shrinking=True,\n",
       "  tol=0.001, verbose=False))]),\n",
       "       fit_params={}, iid=True, n_jobs=-1,\n",
       "       param_grid={'svm__C': [10, 25, 50, 75, 100]},\n",
       "       pre_dispatch='2*n_jobs', refit=True, return_train_score=True,\n",
       "       scoring=None, verbose=1)"
      ]
     },
     "execution_count": 80,
     "metadata": {},
     "output_type": "execute_result"
    }
   ],
   "source": [
    "simple3_gs.fit(X_test, y_test) "
   ]
  },
  {
   "cell_type": "markdown",
   "metadata": {},
   "source": [
    "### Benchmark scores for SVC with high C values"
   ]
  },
  {
   "cell_type": "code",
   "execution_count": 81,
   "metadata": {},
   "outputs": [
    {
     "data": {
      "text/plain": [
       "1.0"
      ]
     },
     "execution_count": 81,
     "metadata": {},
     "output_type": "execute_result"
    }
   ],
   "source": [
    "simple3_gs.score(X_test, y_test) "
   ]
  },
  {
   "cell_type": "code",
   "execution_count": 82,
   "metadata": {},
   "outputs": [
    {
     "data": {
      "text/plain": [
       "0.59090909090909105"
      ]
     },
     "execution_count": 82,
     "metadata": {},
     "output_type": "execute_result"
    }
   ],
   "source": [
    "simple3_gs.best_score_"
   ]
  },
  {
   "cell_type": "code",
   "execution_count": 83,
   "metadata": {},
   "outputs": [
    {
     "data": {
      "text/html": [
       "<div>\n",
       "<table border=\"1\" class=\"dataframe\">\n",
       "  <thead>\n",
       "    <tr style=\"text-align: right;\">\n",
       "      <th></th>\n",
       "      <th>0</th>\n",
       "      <th>1</th>\n",
       "      <th>2</th>\n",
       "      <th>3</th>\n",
       "      <th>4</th>\n",
       "    </tr>\n",
       "  </thead>\n",
       "  <tbody>\n",
       "    <tr>\n",
       "      <th>mean_fit_time</th>\n",
       "      <td>0.135547</td>\n",
       "      <td>0.135126</td>\n",
       "      <td>0.135311</td>\n",
       "      <td>0.135447</td>\n",
       "      <td>0.136195</td>\n",
       "    </tr>\n",
       "    <tr>\n",
       "      <th>mean_score_time</th>\n",
       "      <td>0.130765</td>\n",
       "      <td>0.129511</td>\n",
       "      <td>0.128968</td>\n",
       "      <td>0.12903</td>\n",
       "      <td>0.130018</td>\n",
       "    </tr>\n",
       "    <tr>\n",
       "      <th>mean_test_score</th>\n",
       "      <td>0.590909</td>\n",
       "      <td>0.590909</td>\n",
       "      <td>0.590909</td>\n",
       "      <td>0.590909</td>\n",
       "      <td>0.590909</td>\n",
       "    </tr>\n",
       "    <tr>\n",
       "      <th>mean_train_score</th>\n",
       "      <td>1</td>\n",
       "      <td>1</td>\n",
       "      <td>1</td>\n",
       "      <td>1</td>\n",
       "      <td>1</td>\n",
       "    </tr>\n",
       "    <tr>\n",
       "      <th>param_svm__C</th>\n",
       "      <td>10</td>\n",
       "      <td>25</td>\n",
       "      <td>50</td>\n",
       "      <td>75</td>\n",
       "      <td>100</td>\n",
       "    </tr>\n",
       "    <tr>\n",
       "      <th>params</th>\n",
       "      <td>{'svm__C': 10}</td>\n",
       "      <td>{'svm__C': 25}</td>\n",
       "      <td>{'svm__C': 50}</td>\n",
       "      <td>{'svm__C': 75}</td>\n",
       "      <td>{'svm__C': 100}</td>\n",
       "    </tr>\n",
       "    <tr>\n",
       "      <th>rank_test_score</th>\n",
       "      <td>1</td>\n",
       "      <td>1</td>\n",
       "      <td>1</td>\n",
       "      <td>1</td>\n",
       "      <td>1</td>\n",
       "    </tr>\n",
       "    <tr>\n",
       "      <th>split0_test_score</th>\n",
       "      <td>0.607251</td>\n",
       "      <td>0.607251</td>\n",
       "      <td>0.607251</td>\n",
       "      <td>0.607251</td>\n",
       "      <td>0.607251</td>\n",
       "    </tr>\n",
       "    <tr>\n",
       "      <th>split0_train_score</th>\n",
       "      <td>1</td>\n",
       "      <td>1</td>\n",
       "      <td>1</td>\n",
       "      <td>1</td>\n",
       "      <td>1</td>\n",
       "    </tr>\n",
       "    <tr>\n",
       "      <th>split1_test_score</th>\n",
       "      <td>0.574468</td>\n",
       "      <td>0.574468</td>\n",
       "      <td>0.574468</td>\n",
       "      <td>0.574468</td>\n",
       "      <td>0.574468</td>\n",
       "    </tr>\n",
       "    <tr>\n",
       "      <th>split1_train_score</th>\n",
       "      <td>1</td>\n",
       "      <td>1</td>\n",
       "      <td>1</td>\n",
       "      <td>1</td>\n",
       "      <td>1</td>\n",
       "    </tr>\n",
       "    <tr>\n",
       "      <th>std_fit_time</th>\n",
       "      <td>0.000955224</td>\n",
       "      <td>0.000989914</td>\n",
       "      <td>0.000945449</td>\n",
       "      <td>0.000873804</td>\n",
       "      <td>0.000229836</td>\n",
       "    </tr>\n",
       "    <tr>\n",
       "      <th>std_score_time</th>\n",
       "      <td>0.00171602</td>\n",
       "      <td>0.00104868</td>\n",
       "      <td>5.24521e-05</td>\n",
       "      <td>0.00013864</td>\n",
       "      <td>0.000117183</td>\n",
       "    </tr>\n",
       "    <tr>\n",
       "      <th>std_test_score</th>\n",
       "      <td>0.0163913</td>\n",
       "      <td>0.0163913</td>\n",
       "      <td>0.0163913</td>\n",
       "      <td>0.0163913</td>\n",
       "      <td>0.0163913</td>\n",
       "    </tr>\n",
       "    <tr>\n",
       "      <th>std_train_score</th>\n",
       "      <td>0</td>\n",
       "      <td>0</td>\n",
       "      <td>0</td>\n",
       "      <td>0</td>\n",
       "      <td>0</td>\n",
       "    </tr>\n",
       "  </tbody>\n",
       "</table>\n",
       "</div>"
      ],
      "text/plain": [
       "                                 0               1               2  \\\n",
       "mean_fit_time             0.135547        0.135126        0.135311   \n",
       "mean_score_time           0.130765        0.129511        0.128968   \n",
       "mean_test_score           0.590909        0.590909        0.590909   \n",
       "mean_train_score                 1               1               1   \n",
       "param_svm__C                    10              25              50   \n",
       "params              {'svm__C': 10}  {'svm__C': 25}  {'svm__C': 50}   \n",
       "rank_test_score                  1               1               1   \n",
       "split0_test_score         0.607251        0.607251        0.607251   \n",
       "split0_train_score               1               1               1   \n",
       "split1_test_score         0.574468        0.574468        0.574468   \n",
       "split1_train_score               1               1               1   \n",
       "std_fit_time           0.000955224     0.000989914     0.000945449   \n",
       "std_score_time          0.00171602      0.00104868     5.24521e-05   \n",
       "std_test_score           0.0163913       0.0163913       0.0163913   \n",
       "std_train_score                  0               0               0   \n",
       "\n",
       "                                 3                4  \n",
       "mean_fit_time             0.135447         0.136195  \n",
       "mean_score_time            0.12903         0.130018  \n",
       "mean_test_score           0.590909         0.590909  \n",
       "mean_train_score                 1                1  \n",
       "param_svm__C                    75              100  \n",
       "params              {'svm__C': 75}  {'svm__C': 100}  \n",
       "rank_test_score                  1                1  \n",
       "split0_test_score         0.607251         0.607251  \n",
       "split0_train_score               1                1  \n",
       "split1_test_score         0.574468         0.574468  \n",
       "split1_train_score               1                1  \n",
       "std_fit_time           0.000873804      0.000229836  \n",
       "std_score_time          0.00013864      0.000117183  \n",
       "std_test_score           0.0163913        0.0163913  \n",
       "std_train_score                  0                0  "
      ]
     },
     "execution_count": 83,
     "metadata": {},
     "output_type": "execute_result"
    }
   ],
   "source": [
    "pd.DataFrame(simple3_gs.cv_results_).sort_values(by='rank_test_score').T"
   ]
  },
  {
   "cell_type": "markdown",
   "metadata": {},
   "source": [
    "### THIRD BATCH OF 2200\n"
   ]
  },
  {
   "cell_type": "code",
   "execution_count": 84,
   "metadata": {},
   "outputs": [],
   "source": [
    "X_3 = pd.read_pickle('./data/third_batch_X.p')"
   ]
  },
  {
   "cell_type": "code",
   "execution_count": 85,
   "metadata": {},
   "outputs": [],
   "source": [
    "y_3 = pd.read_pickle('./data/third_batch_labels.p')"
   ]
  },
  {
   "cell_type": "code",
   "execution_count": 86,
   "metadata": {},
   "outputs": [
    {
     "data": {
      "text/html": [
       "<div>\n",
       "<table border=\"1\" class=\"dataframe\">\n",
       "  <thead>\n",
       "    <tr style=\"text-align: right;\">\n",
       "      <th></th>\n",
       "      <th>feat_000</th>\n",
       "      <th>feat_001</th>\n",
       "      <th>feat_002</th>\n",
       "      <th>feat_003</th>\n",
       "      <th>feat_004</th>\n",
       "      <th>feat_005</th>\n",
       "      <th>feat_006</th>\n",
       "      <th>feat_007</th>\n",
       "      <th>feat_008</th>\n",
       "      <th>feat_009</th>\n",
       "      <th>...</th>\n",
       "      <th>feat_990</th>\n",
       "      <th>feat_991</th>\n",
       "      <th>feat_992</th>\n",
       "      <th>feat_993</th>\n",
       "      <th>feat_994</th>\n",
       "      <th>feat_995</th>\n",
       "      <th>feat_996</th>\n",
       "      <th>feat_997</th>\n",
       "      <th>feat_998</th>\n",
       "      <th>feat_999</th>\n",
       "    </tr>\n",
       "    <tr>\n",
       "      <th>_id</th>\n",
       "      <th></th>\n",
       "      <th></th>\n",
       "      <th></th>\n",
       "      <th></th>\n",
       "      <th></th>\n",
       "      <th></th>\n",
       "      <th></th>\n",
       "      <th></th>\n",
       "      <th></th>\n",
       "      <th></th>\n",
       "      <th></th>\n",
       "      <th></th>\n",
       "      <th></th>\n",
       "      <th></th>\n",
       "      <th></th>\n",
       "      <th></th>\n",
       "      <th></th>\n",
       "      <th></th>\n",
       "      <th></th>\n",
       "      <th></th>\n",
       "      <th></th>\n",
       "    </tr>\n",
       "  </thead>\n",
       "  <tbody>\n",
       "    <tr>\n",
       "      <th>150087</th>\n",
       "      <td>1.733559</td>\n",
       "      <td>-0.761334</td>\n",
       "      <td>-1.240347</td>\n",
       "      <td>-1.415227</td>\n",
       "      <td>0.703603</td>\n",
       "      <td>-0.439027</td>\n",
       "      <td>-0.049728</td>\n",
       "      <td>0.745157</td>\n",
       "      <td>-1.155612</td>\n",
       "      <td>-0.737401</td>\n",
       "      <td>...</td>\n",
       "      <td>2.591919</td>\n",
       "      <td>-0.010986</td>\n",
       "      <td>0.710740</td>\n",
       "      <td>-0.737911</td>\n",
       "      <td>0.513733</td>\n",
       "      <td>1.053194</td>\n",
       "      <td>0.475458</td>\n",
       "      <td>0.783257</td>\n",
       "      <td>-0.851222</td>\n",
       "      <td>1.870741</td>\n",
       "    </tr>\n",
       "    <tr>\n",
       "      <th>154907</th>\n",
       "      <td>0.861287</td>\n",
       "      <td>0.237212</td>\n",
       "      <td>-1.297588</td>\n",
       "      <td>1.634156</td>\n",
       "      <td>-1.269498</td>\n",
       "      <td>-0.794096</td>\n",
       "      <td>-1.220777</td>\n",
       "      <td>-0.340135</td>\n",
       "      <td>-0.412629</td>\n",
       "      <td>-0.319816</td>\n",
       "      <td>...</td>\n",
       "      <td>-0.509825</td>\n",
       "      <td>-1.686618</td>\n",
       "      <td>0.165523</td>\n",
       "      <td>-0.935342</td>\n",
       "      <td>-0.406321</td>\n",
       "      <td>0.020490</td>\n",
       "      <td>-1.824565</td>\n",
       "      <td>-1.648503</td>\n",
       "      <td>-0.140154</td>\n",
       "      <td>-0.700938</td>\n",
       "    </tr>\n",
       "    <tr>\n",
       "      <th>106532</th>\n",
       "      <td>0.021128</td>\n",
       "      <td>1.186682</td>\n",
       "      <td>0.324742</td>\n",
       "      <td>0.755476</td>\n",
       "      <td>-0.816199</td>\n",
       "      <td>-0.759361</td>\n",
       "      <td>0.032196</td>\n",
       "      <td>-0.959081</td>\n",
       "      <td>-0.493622</td>\n",
       "      <td>-0.993700</td>\n",
       "      <td>...</td>\n",
       "      <td>-1.807779</td>\n",
       "      <td>-1.285744</td>\n",
       "      <td>-0.161095</td>\n",
       "      <td>1.228016</td>\n",
       "      <td>-0.050208</td>\n",
       "      <td>-0.033661</td>\n",
       "      <td>-0.440945</td>\n",
       "      <td>-1.543513</td>\n",
       "      <td>-1.336015</td>\n",
       "      <td>1.734729</td>\n",
       "    </tr>\n",
       "    <tr>\n",
       "      <th>47807</th>\n",
       "      <td>-0.517406</td>\n",
       "      <td>0.245016</td>\n",
       "      <td>0.521708</td>\n",
       "      <td>-1.459276</td>\n",
       "      <td>-1.232080</td>\n",
       "      <td>-1.328985</td>\n",
       "      <td>-0.503430</td>\n",
       "      <td>0.050424</td>\n",
       "      <td>-0.765410</td>\n",
       "      <td>-0.649276</td>\n",
       "      <td>...</td>\n",
       "      <td>-0.297998</td>\n",
       "      <td>-0.443440</td>\n",
       "      <td>0.404448</td>\n",
       "      <td>1.525297</td>\n",
       "      <td>-1.888619</td>\n",
       "      <td>0.604289</td>\n",
       "      <td>-1.572321</td>\n",
       "      <td>-1.411331</td>\n",
       "      <td>-0.714153</td>\n",
       "      <td>0.554626</td>\n",
       "    </tr>\n",
       "    <tr>\n",
       "      <th>194259</th>\n",
       "      <td>0.622187</td>\n",
       "      <td>0.179418</td>\n",
       "      <td>-0.447626</td>\n",
       "      <td>-0.522262</td>\n",
       "      <td>-0.269890</td>\n",
       "      <td>-0.016812</td>\n",
       "      <td>-1.618383</td>\n",
       "      <td>-1.311677</td>\n",
       "      <td>-1.007634</td>\n",
       "      <td>0.794815</td>\n",
       "      <td>...</td>\n",
       "      <td>-0.525650</td>\n",
       "      <td>0.654571</td>\n",
       "      <td>-0.534706</td>\n",
       "      <td>1.286618</td>\n",
       "      <td>1.729760</td>\n",
       "      <td>0.082108</td>\n",
       "      <td>1.324152</td>\n",
       "      <td>0.890771</td>\n",
       "      <td>0.294307</td>\n",
       "      <td>-1.575990</td>\n",
       "    </tr>\n",
       "  </tbody>\n",
       "</table>\n",
       "<p>5 rows × 1000 columns</p>\n",
       "</div>"
      ],
      "text/plain": [
       "        feat_000  feat_001  feat_002  feat_003  feat_004  feat_005  feat_006  \\\n",
       "_id                                                                            \n",
       "150087  1.733559 -0.761334 -1.240347 -1.415227  0.703603 -0.439027 -0.049728   \n",
       "154907  0.861287  0.237212 -1.297588  1.634156 -1.269498 -0.794096 -1.220777   \n",
       "106532  0.021128  1.186682  0.324742  0.755476 -0.816199 -0.759361  0.032196   \n",
       "47807  -0.517406  0.245016  0.521708 -1.459276 -1.232080 -1.328985 -0.503430   \n",
       "194259  0.622187  0.179418 -0.447626 -0.522262 -0.269890 -0.016812 -1.618383   \n",
       "\n",
       "        feat_007  feat_008  feat_009    ...     feat_990  feat_991  feat_992  \\\n",
       "_id                                     ...                                    \n",
       "150087  0.745157 -1.155612 -0.737401    ...     2.591919 -0.010986  0.710740   \n",
       "154907 -0.340135 -0.412629 -0.319816    ...    -0.509825 -1.686618  0.165523   \n",
       "106532 -0.959081 -0.493622 -0.993700    ...    -1.807779 -1.285744 -0.161095   \n",
       "47807   0.050424 -0.765410 -0.649276    ...    -0.297998 -0.443440  0.404448   \n",
       "194259 -1.311677 -1.007634  0.794815    ...    -0.525650  0.654571 -0.534706   \n",
       "\n",
       "        feat_993  feat_994  feat_995  feat_996  feat_997  feat_998  feat_999  \n",
       "_id                                                                           \n",
       "150087 -0.737911  0.513733  1.053194  0.475458  0.783257 -0.851222  1.870741  \n",
       "154907 -0.935342 -0.406321  0.020490 -1.824565 -1.648503 -0.140154 -0.700938  \n",
       "106532  1.228016 -0.050208 -0.033661 -0.440945 -1.543513 -1.336015  1.734729  \n",
       "47807   1.525297 -1.888619  0.604289 -1.572321 -1.411331 -0.714153  0.554626  \n",
       "194259  1.286618  1.729760  0.082108  1.324152  0.890771  0.294307 -1.575990  \n",
       "\n",
       "[5 rows x 1000 columns]"
      ]
     },
     "execution_count": 86,
     "metadata": {},
     "output_type": "execute_result"
    }
   ],
   "source": [
    "X_3.head()"
   ]
  },
  {
   "cell_type": "code",
   "execution_count": 87,
   "metadata": {},
   "outputs": [
    {
     "data": {
      "text/plain": [
       "_id\n",
       "150087    1\n",
       "154907    0\n",
       "106532    1\n",
       "47807     0\n",
       "194259    1\n",
       "Name: target, dtype: int64"
      ]
     },
     "execution_count": 87,
     "metadata": {},
     "output_type": "execute_result"
    }
   ],
   "source": [
    "y_3.head()"
   ]
  },
  {
   "cell_type": "code",
   "execution_count": 88,
   "metadata": {},
   "outputs": [
    {
     "data": {
      "text/plain": [
       "((2200, 1000), (2200,))"
      ]
     },
     "execution_count": 88,
     "metadata": {},
     "output_type": "execute_result"
    }
   ],
   "source": [
    "X_3.shape, y_3.shape"
   ]
  },
  {
   "cell_type": "markdown",
   "metadata": {},
   "source": [
    "## Preparing train, test split for:\n",
    "\n",
    "- logistic regression\n",
    "- decision tree\n",
    "- k nearest neighbors\n",
    "- support vector classifier\n",
    "\n",
    "\"in order to do this, you will need to set a high C value in order to perform minimal regularization, in the case of logistic regression and support vector classifier.\""
   ]
  },
  {
   "cell_type": "code",
   "execution_count": 90,
   "metadata": {},
   "outputs": [],
   "source": [
    "X_train, X_test, y_train, y_test = train_test_split(X_3,\n",
    "                                                    y_3,\n",
    "                                                    test_size = .3,\n",
    "                                                    )"
   ]
  },
  {
   "cell_type": "code",
   "execution_count": 91,
   "metadata": {},
   "outputs": [
    {
     "data": {
      "text/plain": [
       "((1540, 1000), (1540,))"
      ]
     },
     "execution_count": 91,
     "metadata": {},
     "output_type": "execute_result"
    }
   ],
   "source": [
    "X_train.shape, y_train.shape"
   ]
  },
  {
   "cell_type": "code",
   "execution_count": 92,
   "metadata": {},
   "outputs": [],
   "source": [
    "simple_pipe_1 = Pipeline([\n",
    "    ('lnr',  LogisticRegression())\n",
    "])"
   ]
  },
  {
   "cell_type": "code",
   "execution_count": 93,
   "metadata": {},
   "outputs": [],
   "source": [
    "simple_param_1 = {\n",
    "    'lnr__C': [10,25,50,75,100]\n",
    "}"
   ]
  },
  {
   "cell_type": "code",
   "execution_count": 94,
   "metadata": {},
   "outputs": [],
   "source": [
    "simple2_gs = GridSearchCV(simple_pipe_1, param_grid=simple_param_1, cv=2, n_jobs=-1, verbose=1)"
   ]
  },
  {
   "cell_type": "code",
   "execution_count": 95,
   "metadata": {},
   "outputs": [
    {
     "name": "stdout",
     "output_type": "stream",
     "text": [
      "Fitting 2 folds for each of 5 candidates, totalling 10 fits\n"
     ]
    },
    {
     "name": "stderr",
     "output_type": "stream",
     "text": [
      "[Parallel(n_jobs=-1)]: Done  10 out of  10 | elapsed:    2.5s finished\n"
     ]
    },
    {
     "data": {
      "text/plain": [
       "GridSearchCV(cv=2, error_score='raise',\n",
       "       estimator=Pipeline(steps=[('lnr', LogisticRegression(C=1.0, class_weight=None, dual=False, fit_intercept=True,\n",
       "          intercept_scaling=1, max_iter=100, multi_class='ovr', n_jobs=1,\n",
       "          penalty='l2', random_state=None, solver='liblinear', tol=0.0001,\n",
       "          verbose=0, warm_start=False))]),\n",
       "       fit_params={}, iid=True, n_jobs=-1,\n",
       "       param_grid={'lnr__C': [10, 25, 50, 75, 100]},\n",
       "       pre_dispatch='2*n_jobs', refit=True, return_train_score=True,\n",
       "       scoring=None, verbose=1)"
      ]
     },
     "execution_count": 95,
     "metadata": {},
     "output_type": "execute_result"
    }
   ],
   "source": [
    "simple2_gs.fit(X_train, y_train)"
   ]
  },
  {
   "cell_type": "code",
   "execution_count": 96,
   "metadata": {},
   "outputs": [
    {
     "data": {
      "text/html": [
       "<div>\n",
       "<table border=\"1\" class=\"dataframe\">\n",
       "  <thead>\n",
       "    <tr style=\"text-align: right;\">\n",
       "      <th></th>\n",
       "      <th>0</th>\n",
       "      <th>4</th>\n",
       "      <th>1</th>\n",
       "      <th>3</th>\n",
       "      <th>2</th>\n",
       "    </tr>\n",
       "  </thead>\n",
       "  <tbody>\n",
       "    <tr>\n",
       "      <th>mean_fit_time</th>\n",
       "      <td>0.232878</td>\n",
       "      <td>0.25433</td>\n",
       "      <td>0.23029</td>\n",
       "      <td>0.258338</td>\n",
       "      <td>0.260358</td>\n",
       "    </tr>\n",
       "    <tr>\n",
       "      <th>mean_score_time</th>\n",
       "      <td>0.00168622</td>\n",
       "      <td>0.00146556</td>\n",
       "      <td>0.001436</td>\n",
       "      <td>0.00143814</td>\n",
       "      <td>0.00139368</td>\n",
       "    </tr>\n",
       "    <tr>\n",
       "      <th>mean_test_score</th>\n",
       "      <td>0.522727</td>\n",
       "      <td>0.519481</td>\n",
       "      <td>0.517532</td>\n",
       "      <td>0.517532</td>\n",
       "      <td>0.516234</td>\n",
       "    </tr>\n",
       "    <tr>\n",
       "      <th>mean_train_score</th>\n",
       "      <td>1</td>\n",
       "      <td>1</td>\n",
       "      <td>1</td>\n",
       "      <td>1</td>\n",
       "      <td>1</td>\n",
       "    </tr>\n",
       "    <tr>\n",
       "      <th>param_lnr__C</th>\n",
       "      <td>10</td>\n",
       "      <td>100</td>\n",
       "      <td>25</td>\n",
       "      <td>75</td>\n",
       "      <td>50</td>\n",
       "    </tr>\n",
       "    <tr>\n",
       "      <th>params</th>\n",
       "      <td>{'lnr__C': 10}</td>\n",
       "      <td>{'lnr__C': 100}</td>\n",
       "      <td>{'lnr__C': 25}</td>\n",
       "      <td>{'lnr__C': 75}</td>\n",
       "      <td>{'lnr__C': 50}</td>\n",
       "    </tr>\n",
       "    <tr>\n",
       "      <th>rank_test_score</th>\n",
       "      <td>1</td>\n",
       "      <td>2</td>\n",
       "      <td>3</td>\n",
       "      <td>3</td>\n",
       "      <td>5</td>\n",
       "    </tr>\n",
       "    <tr>\n",
       "      <th>split0_test_score</th>\n",
       "      <td>0.539559</td>\n",
       "      <td>0.534371</td>\n",
       "      <td>0.533074</td>\n",
       "      <td>0.533074</td>\n",
       "      <td>0.531777</td>\n",
       "    </tr>\n",
       "    <tr>\n",
       "      <th>split0_train_score</th>\n",
       "      <td>1</td>\n",
       "      <td>1</td>\n",
       "      <td>1</td>\n",
       "      <td>1</td>\n",
       "      <td>1</td>\n",
       "    </tr>\n",
       "    <tr>\n",
       "      <th>split1_test_score</th>\n",
       "      <td>0.505852</td>\n",
       "      <td>0.504551</td>\n",
       "      <td>0.501951</td>\n",
       "      <td>0.501951</td>\n",
       "      <td>0.50065</td>\n",
       "    </tr>\n",
       "    <tr>\n",
       "      <th>split1_train_score</th>\n",
       "      <td>1</td>\n",
       "      <td>1</td>\n",
       "      <td>1</td>\n",
       "      <td>1</td>\n",
       "      <td>1</td>\n",
       "    </tr>\n",
       "    <tr>\n",
       "      <th>std_fit_time</th>\n",
       "      <td>0.00133514</td>\n",
       "      <td>0.00657082</td>\n",
       "      <td>0.00176382</td>\n",
       "      <td>0.00356758</td>\n",
       "      <td>0.00384617</td>\n",
       "    </tr>\n",
       "    <tr>\n",
       "      <th>std_score_time</th>\n",
       "      <td>0.000267148</td>\n",
       "      <td>2.47955e-05</td>\n",
       "      <td>6.07967e-05</td>\n",
       "      <td>1.66893e-06</td>\n",
       "      <td>5.16176e-05</td>\n",
       "    </tr>\n",
       "    <tr>\n",
       "      <th>std_test_score</th>\n",
       "      <td>0.0168536</td>\n",
       "      <td>0.0149098</td>\n",
       "      <td>0.0155617</td>\n",
       "      <td>0.0155617</td>\n",
       "      <td>0.0155633</td>\n",
       "    </tr>\n",
       "    <tr>\n",
       "      <th>std_train_score</th>\n",
       "      <td>0</td>\n",
       "      <td>0</td>\n",
       "      <td>0</td>\n",
       "      <td>0</td>\n",
       "      <td>0</td>\n",
       "    </tr>\n",
       "  </tbody>\n",
       "</table>\n",
       "</div>"
      ],
      "text/plain": [
       "                                 0                4               1  \\\n",
       "mean_fit_time             0.232878          0.25433         0.23029   \n",
       "mean_score_time         0.00168622       0.00146556        0.001436   \n",
       "mean_test_score           0.522727         0.519481        0.517532   \n",
       "mean_train_score                 1                1               1   \n",
       "param_lnr__C                    10              100              25   \n",
       "params              {'lnr__C': 10}  {'lnr__C': 100}  {'lnr__C': 25}   \n",
       "rank_test_score                  1                2               3   \n",
       "split0_test_score         0.539559         0.534371        0.533074   \n",
       "split0_train_score               1                1               1   \n",
       "split1_test_score         0.505852         0.504551        0.501951   \n",
       "split1_train_score               1                1               1   \n",
       "std_fit_time            0.00133514       0.00657082      0.00176382   \n",
       "std_score_time         0.000267148      2.47955e-05     6.07967e-05   \n",
       "std_test_score           0.0168536        0.0149098       0.0155617   \n",
       "std_train_score                  0                0               0   \n",
       "\n",
       "                                 3               2  \n",
       "mean_fit_time             0.258338        0.260358  \n",
       "mean_score_time         0.00143814      0.00139368  \n",
       "mean_test_score           0.517532        0.516234  \n",
       "mean_train_score                 1               1  \n",
       "param_lnr__C                    75              50  \n",
       "params              {'lnr__C': 75}  {'lnr__C': 50}  \n",
       "rank_test_score                  3               5  \n",
       "split0_test_score         0.533074        0.531777  \n",
       "split0_train_score               1               1  \n",
       "split1_test_score         0.501951         0.50065  \n",
       "split1_train_score               1               1  \n",
       "std_fit_time            0.00356758      0.00384617  \n",
       "std_score_time         1.66893e-06     5.16176e-05  \n",
       "std_test_score           0.0155617       0.0155633  \n",
       "std_train_score                  0               0  "
      ]
     },
     "execution_count": 96,
     "metadata": {},
     "output_type": "execute_result"
    }
   ],
   "source": [
    "pd.DataFrame(simple2_gs.cv_results_).sort_values(by='rank_test_score').T"
   ]
  },
  {
   "cell_type": "code",
   "execution_count": 97,
   "metadata": {},
   "outputs": [
    {
     "data": {
      "text/plain": [
       "1.0"
      ]
     },
     "execution_count": 97,
     "metadata": {},
     "output_type": "execute_result"
    }
   ],
   "source": [
    "simple2_gs.score(X_train, y_train)"
   ]
  },
  {
   "cell_type": "code",
   "execution_count": 98,
   "metadata": {},
   "outputs": [
    {
     "data": {
      "text/plain": [
       "0.52272727272727271"
      ]
     },
     "execution_count": 98,
     "metadata": {},
     "output_type": "execute_result"
    }
   ],
   "source": [
    "simple2_gs.best_score_"
   ]
  },
  {
   "cell_type": "markdown",
   "metadata": {},
   "source": [
    "# DECISION TREE\n"
   ]
  },
  {
   "cell_type": "code",
   "execution_count": 99,
   "metadata": {},
   "outputs": [],
   "source": [
    "simple_pipe_2 =  Pipeline([\n",
    "    ('tree', DecisionTreeClassifier())\n",
    "])"
   ]
  },
  {
   "cell_type": "code",
   "execution_count": 100,
   "metadata": {},
   "outputs": [
    {
     "data": {
      "text/plain": [
       "Pipeline(steps=[('tree', DecisionTreeClassifier(class_weight=None, criterion='gini', max_depth=None,\n",
       "            max_features=None, max_leaf_nodes=None,\n",
       "            min_impurity_split=1e-07, min_samples_leaf=1,\n",
       "            min_samples_split=2, min_weight_fraction_leaf=0.0,\n",
       "            presort=False, random_state=None, splitter='best'))])"
      ]
     },
     "execution_count": 100,
     "metadata": {},
     "output_type": "execute_result"
    }
   ],
   "source": [
    "simple_pipe_2.fit(X_train, y_train)"
   ]
  },
  {
   "cell_type": "markdown",
   "metadata": {},
   "source": [
    "### Benchmark scores for Decision Tree "
   ]
  },
  {
   "cell_type": "code",
   "execution_count": 101,
   "metadata": {},
   "outputs": [
    {
     "data": {
      "text/plain": [
       "1.0"
      ]
     },
     "execution_count": 101,
     "metadata": {},
     "output_type": "execute_result"
    }
   ],
   "source": [
    "simple_pipe_2.score(X_train, y_train)"
   ]
  },
  {
   "cell_type": "code",
   "execution_count": 102,
   "metadata": {},
   "outputs": [
    {
     "data": {
      "text/plain": [
       "0.58636363636363631"
      ]
     },
     "execution_count": 102,
     "metadata": {},
     "output_type": "execute_result"
    }
   ],
   "source": [
    "simple_pipe_2.score(X_test, y_test)"
   ]
  },
  {
   "cell_type": "markdown",
   "metadata": {},
   "source": [
    "# KNN\n"
   ]
  },
  {
   "cell_type": "code",
   "execution_count": 103,
   "metadata": {},
   "outputs": [],
   "source": [
    "neigh = KNeighborsClassifier(n_neighbors=3)"
   ]
  },
  {
   "cell_type": "code",
   "execution_count": 104,
   "metadata": {},
   "outputs": [
    {
     "data": {
      "text/plain": [
       "KNeighborsClassifier(algorithm='auto', leaf_size=30, metric='minkowski',\n",
       "           metric_params=None, n_jobs=1, n_neighbors=3, p=2,\n",
       "           weights='uniform')"
      ]
     },
     "execution_count": 104,
     "metadata": {},
     "output_type": "execute_result"
    }
   ],
   "source": [
    "neigh.fit(X_train, y_train) "
   ]
  },
  {
   "cell_type": "code",
   "execution_count": 105,
   "metadata": {},
   "outputs": [
    {
     "data": {
      "text/plain": [
       "array([[ 0.66666667,  0.33333333],\n",
       "       [ 1.        ,  0.        ],\n",
       "       [ 0.        ,  1.        ],\n",
       "       ..., \n",
       "       [ 1.        ,  0.        ],\n",
       "       [ 0.33333333,  0.66666667],\n",
       "       [ 0.66666667,  0.33333333]])"
      ]
     },
     "execution_count": 105,
     "metadata": {},
     "output_type": "execute_result"
    }
   ],
   "source": [
    "neigh.predict_proba(X_train)"
   ]
  },
  {
   "cell_type": "markdown",
   "metadata": {},
   "source": [
    "### Benchmark scores for KNN\n"
   ]
  },
  {
   "cell_type": "code",
   "execution_count": 106,
   "metadata": {},
   "outputs": [
    {
     "data": {
      "text/plain": [
       "0.79805194805194801"
      ]
     },
     "execution_count": 106,
     "metadata": {},
     "output_type": "execute_result"
    }
   ],
   "source": [
    "neigh.score(X_train, y_train, sample_weight=None)"
   ]
  },
  {
   "cell_type": "code",
   "execution_count": 107,
   "metadata": {},
   "outputs": [
    {
     "data": {
      "text/plain": [
       "0.60606060606060608"
      ]
     },
     "execution_count": 107,
     "metadata": {},
     "output_type": "execute_result"
    }
   ],
   "source": [
    "neigh.score(X_test, y_test, sample_weight=None)"
   ]
  },
  {
   "cell_type": "markdown",
   "metadata": {},
   "source": [
    "# SVC\n"
   ]
  },
  {
   "cell_type": "code",
   "execution_count": 108,
   "metadata": {},
   "outputs": [],
   "source": [
    "simple_pipe_3 =  Pipeline([\n",
    "    ('svm', svm.SVC())\n",
    "])"
   ]
  },
  {
   "cell_type": "code",
   "execution_count": 109,
   "metadata": {},
   "outputs": [],
   "source": [
    "simple_param_3 = {\n",
    "    'svm__C': [10,25,50,75,100]\n",
    "}"
   ]
  },
  {
   "cell_type": "code",
   "execution_count": 110,
   "metadata": {},
   "outputs": [],
   "source": [
    "simple3_gs = GridSearchCV(simple_pipe_3, param_grid=simple_param_3, cv=2, n_jobs=-1, verbose=1)"
   ]
  },
  {
   "cell_type": "code",
   "execution_count": 111,
   "metadata": {},
   "outputs": [
    {
     "name": "stdout",
     "output_type": "stream",
     "text": [
      "Fitting 2 folds for each of 5 candidates, totalling 10 fits\n"
     ]
    },
    {
     "name": "stderr",
     "output_type": "stream",
     "text": [
      "[Parallel(n_jobs=-1)]: Done  10 out of  10 | elapsed:    3.9s finished\n"
     ]
    },
    {
     "data": {
      "text/plain": [
       "GridSearchCV(cv=2, error_score='raise',\n",
       "       estimator=Pipeline(steps=[('svm', SVC(C=1.0, cache_size=200, class_weight=None, coef0=0.0,\n",
       "  decision_function_shape=None, degree=3, gamma='auto', kernel='rbf',\n",
       "  max_iter=-1, probability=False, random_state=None, shrinking=True,\n",
       "  tol=0.001, verbose=False))]),\n",
       "       fit_params={}, iid=True, n_jobs=-1,\n",
       "       param_grid={'svm__C': [10, 25, 50, 75, 100]},\n",
       "       pre_dispatch='2*n_jobs', refit=True, return_train_score=True,\n",
       "       scoring=None, verbose=1)"
      ]
     },
     "execution_count": 111,
     "metadata": {},
     "output_type": "execute_result"
    }
   ],
   "source": [
    "simple3_gs.fit(X_test, y_test) "
   ]
  },
  {
   "cell_type": "markdown",
   "metadata": {},
   "source": [
    "### Benchmark scores for SVC with high C values"
   ]
  },
  {
   "cell_type": "code",
   "execution_count": 112,
   "metadata": {},
   "outputs": [
    {
     "data": {
      "text/plain": [
       "1.0"
      ]
     },
     "execution_count": 112,
     "metadata": {},
     "output_type": "execute_result"
    }
   ],
   "source": [
    "simple3_gs.score(X_test, y_test) "
   ]
  },
  {
   "cell_type": "code",
   "execution_count": 113,
   "metadata": {},
   "outputs": [
    {
     "data": {
      "text/plain": [
       "0.59999999999999998"
      ]
     },
     "execution_count": 113,
     "metadata": {},
     "output_type": "execute_result"
    }
   ],
   "source": [
    "simple3_gs.best_score_"
   ]
  },
  {
   "cell_type": "code",
   "execution_count": 114,
   "metadata": {},
   "outputs": [
    {
     "data": {
      "text/html": [
       "<div>\n",
       "<table border=\"1\" class=\"dataframe\">\n",
       "  <thead>\n",
       "    <tr style=\"text-align: right;\">\n",
       "      <th></th>\n",
       "      <th>0</th>\n",
       "      <th>1</th>\n",
       "      <th>2</th>\n",
       "      <th>3</th>\n",
       "      <th>4</th>\n",
       "    </tr>\n",
       "  </thead>\n",
       "  <tbody>\n",
       "    <tr>\n",
       "      <th>mean_fit_time</th>\n",
       "      <td>0.135085</td>\n",
       "      <td>0.134869</td>\n",
       "      <td>0.134425</td>\n",
       "      <td>0.13465</td>\n",
       "      <td>0.134994</td>\n",
       "    </tr>\n",
       "    <tr>\n",
       "      <th>mean_score_time</th>\n",
       "      <td>0.129717</td>\n",
       "      <td>0.129396</td>\n",
       "      <td>0.128925</td>\n",
       "      <td>0.129411</td>\n",
       "      <td>0.127337</td>\n",
       "    </tr>\n",
       "    <tr>\n",
       "      <th>mean_test_score</th>\n",
       "      <td>0.6</td>\n",
       "      <td>0.6</td>\n",
       "      <td>0.6</td>\n",
       "      <td>0.6</td>\n",
       "      <td>0.6</td>\n",
       "    </tr>\n",
       "    <tr>\n",
       "      <th>mean_train_score</th>\n",
       "      <td>1</td>\n",
       "      <td>1</td>\n",
       "      <td>1</td>\n",
       "      <td>1</td>\n",
       "      <td>1</td>\n",
       "    </tr>\n",
       "    <tr>\n",
       "      <th>param_svm__C</th>\n",
       "      <td>10</td>\n",
       "      <td>25</td>\n",
       "      <td>50</td>\n",
       "      <td>75</td>\n",
       "      <td>100</td>\n",
       "    </tr>\n",
       "    <tr>\n",
       "      <th>params</th>\n",
       "      <td>{'svm__C': 10}</td>\n",
       "      <td>{'svm__C': 25}</td>\n",
       "      <td>{'svm__C': 50}</td>\n",
       "      <td>{'svm__C': 75}</td>\n",
       "      <td>{'svm__C': 100}</td>\n",
       "    </tr>\n",
       "    <tr>\n",
       "      <th>rank_test_score</th>\n",
       "      <td>1</td>\n",
       "      <td>1</td>\n",
       "      <td>1</td>\n",
       "      <td>1</td>\n",
       "      <td>1</td>\n",
       "    </tr>\n",
       "    <tr>\n",
       "      <th>split0_test_score</th>\n",
       "      <td>0.6</td>\n",
       "      <td>0.6</td>\n",
       "      <td>0.6</td>\n",
       "      <td>0.6</td>\n",
       "      <td>0.6</td>\n",
       "    </tr>\n",
       "    <tr>\n",
       "      <th>split0_train_score</th>\n",
       "      <td>1</td>\n",
       "      <td>1</td>\n",
       "      <td>1</td>\n",
       "      <td>1</td>\n",
       "      <td>1</td>\n",
       "    </tr>\n",
       "    <tr>\n",
       "      <th>split1_test_score</th>\n",
       "      <td>0.6</td>\n",
       "      <td>0.6</td>\n",
       "      <td>0.6</td>\n",
       "      <td>0.6</td>\n",
       "      <td>0.6</td>\n",
       "    </tr>\n",
       "    <tr>\n",
       "      <th>split1_train_score</th>\n",
       "      <td>1</td>\n",
       "      <td>1</td>\n",
       "      <td>1</td>\n",
       "      <td>1</td>\n",
       "      <td>1</td>\n",
       "    </tr>\n",
       "    <tr>\n",
       "      <th>std_fit_time</th>\n",
       "      <td>0.000746727</td>\n",
       "      <td>2.55108e-05</td>\n",
       "      <td>0.00127661</td>\n",
       "      <td>0.00155509</td>\n",
       "      <td>0.000413895</td>\n",
       "    </tr>\n",
       "    <tr>\n",
       "      <th>std_score_time</th>\n",
       "      <td>0.000350237</td>\n",
       "      <td>0.000215888</td>\n",
       "      <td>3.49283e-05</td>\n",
       "      <td>0.000419974</td>\n",
       "      <td>0.000871301</td>\n",
       "    </tr>\n",
       "    <tr>\n",
       "      <th>std_test_score</th>\n",
       "      <td>0</td>\n",
       "      <td>0</td>\n",
       "      <td>0</td>\n",
       "      <td>0</td>\n",
       "      <td>0</td>\n",
       "    </tr>\n",
       "    <tr>\n",
       "      <th>std_train_score</th>\n",
       "      <td>0</td>\n",
       "      <td>0</td>\n",
       "      <td>0</td>\n",
       "      <td>0</td>\n",
       "      <td>0</td>\n",
       "    </tr>\n",
       "  </tbody>\n",
       "</table>\n",
       "</div>"
      ],
      "text/plain": [
       "                                 0               1               2  \\\n",
       "mean_fit_time             0.135085        0.134869        0.134425   \n",
       "mean_score_time           0.129717        0.129396        0.128925   \n",
       "mean_test_score                0.6             0.6             0.6   \n",
       "mean_train_score                 1               1               1   \n",
       "param_svm__C                    10              25              50   \n",
       "params              {'svm__C': 10}  {'svm__C': 25}  {'svm__C': 50}   \n",
       "rank_test_score                  1               1               1   \n",
       "split0_test_score              0.6             0.6             0.6   \n",
       "split0_train_score               1               1               1   \n",
       "split1_test_score              0.6             0.6             0.6   \n",
       "split1_train_score               1               1               1   \n",
       "std_fit_time           0.000746727     2.55108e-05      0.00127661   \n",
       "std_score_time         0.000350237     0.000215888     3.49283e-05   \n",
       "std_test_score                   0               0               0   \n",
       "std_train_score                  0               0               0   \n",
       "\n",
       "                                 3                4  \n",
       "mean_fit_time              0.13465         0.134994  \n",
       "mean_score_time           0.129411         0.127337  \n",
       "mean_test_score                0.6              0.6  \n",
       "mean_train_score                 1                1  \n",
       "param_svm__C                    75              100  \n",
       "params              {'svm__C': 75}  {'svm__C': 100}  \n",
       "rank_test_score                  1                1  \n",
       "split0_test_score              0.6              0.6  \n",
       "split0_train_score               1                1  \n",
       "split1_test_score              0.6              0.6  \n",
       "split1_train_score               1                1  \n",
       "std_fit_time            0.00155509      0.000413895  \n",
       "std_score_time         0.000419974      0.000871301  \n",
       "std_test_score                   0                0  \n",
       "std_train_score                  0                0  "
      ]
     },
     "execution_count": 114,
     "metadata": {},
     "output_type": "execute_result"
    }
   ],
   "source": [
    "pd.DataFrame(simple3_gs.cv_results_).sort_values(by='rank_test_score').T"
   ]
  }
 ],
 "metadata": {
  "kernelspec": {
   "display_name": "Python 3",
   "language": "python",
   "name": "python3"
  },
  "language_info": {
   "codemirror_mode": {
    "name": "ipython",
    "version": 3
   },
   "file_extension": ".py",
   "mimetype": "text/x-python",
   "name": "python",
   "nbconvert_exporter": "python",
   "pygments_lexer": "ipython3",
   "version": "3.6.2"
  }
 },
 "nbformat": 4,
 "nbformat_minor": 2
}
